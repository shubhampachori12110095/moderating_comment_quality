{
 "cells": [
  {
   "cell_type": "code",
   "execution_count": 1,
   "metadata": {
    "collapsed": true
   },
   "outputs": [],
   "source": [
    "import pandas as pd\n",
    "import numpy as np\n",
    "\n",
    "import random\n",
    "\n",
    "import pickle\n",
    "from sklearn.externals import joblib\n",
    "\n",
    "from sklearn.preprocessing import scale, StandardScaler\n",
    "\n",
    "from sklearn.cross_validation import train_test_split, cross_val_score\n",
    "\n",
    "from sklearn.neighbors import KNeighborsClassifier\n",
    "from sklearn.naive_bayes import GaussianNB\n",
    "from sklearn.tree import DecisionTreeClassifier\n",
    "from sklearn.linear_model import LogisticRegression\n",
    "from sklearn.ensemble import RandomForestClassifier, GradientBoostingClassifier, AdaBoostClassifier\n",
    "from sklearn.svm import LinearSVC, SVC\n",
    "\n",
    "from sklearn.metrics import accuracy_score, f1_score\n",
    "from sklearn.metrics import precision_score, recall_score, classification_report\n",
    "from sklearn.metrics import precision_recall_curve, roc_auc_score, roc_curve\n",
    "\n",
    "import statsmodels.api as sm\n",
    "\n",
    "import matplotlib.pyplot as plt\n",
    "import seaborn as sb\n",
    "import math\n",
    "\n",
    "%matplotlib inline"
   ]
  },
  {
   "cell_type": "code",
   "execution_count": 2,
   "metadata": {
    "collapsed": true
   },
   "outputs": [],
   "source": [
    "with open('master.pkl','rb') as p:\n",
    "    dfx_y = pickle.load(p)"
   ]
  },
  {
   "cell_type": "code",
   "execution_count": 3,
   "metadata": {
    "collapsed": false
   },
   "outputs": [
    {
     "name": "stdout",
     "output_type": "stream",
     "text": [
      "(100000, 4)\n"
     ]
    },
    {
     "data": {
      "text/html": [
       "<div>\n",
       "<table border=\"1\" class=\"dataframe\">\n",
       "  <thead>\n",
       "    <tr style=\"text-align: right;\">\n",
       "      <th></th>\n",
       "      <th>index</th>\n",
       "      <th>comment</th>\n",
       "      <th>transcript</th>\n",
       "      <th>com_tran_list</th>\n",
       "      <th>TED=1</th>\n",
       "    </tr>\n",
       "  </thead>\n",
       "  <tbody>\n",
       "    <tr>\n",
       "      <th>0</th>\n",
       "      <td>0</td>\n",
       "      <td>Transgenderism is a mental fucking disease ! N...</td>\n",
       "      <td>(Music) (Applause) Trevor Copp: When \"Dancing ...</td>\n",
       "      <td>[Transgenderism is a mental fucking disease ! ...</td>\n",
       "      <td>0</td>\n",
       "    </tr>\n",
       "    <tr>\n",
       "      <th>1</th>\n",
       "      <td>1</td>\n",
       "      <td>This is a wonderfully informative and hopeful ...</td>\n",
       "      <td>Thank you so much, Chris. And it's truly a gre...</td>\n",
       "      <td>[This is a wonderfully informative and hopeful...</td>\n",
       "      <td>1</td>\n",
       "    </tr>\n",
       "    <tr>\n",
       "      <th>2</th>\n",
       "      <td>2</td>\n",
       "      <td>As you are a Climate Change denier, I feel obl...</td>\n",
       "      <td>Thank you so much, Chris. And it's truly a gre...</td>\n",
       "      <td>[As you are a Climate Change denier, I feel ob...</td>\n",
       "      <td>1</td>\n",
       "    </tr>\n",
       "    <tr>\n",
       "      <th>3</th>\n",
       "      <td>3</td>\n",
       "      <td>if this started migrating itself into a normal...</td>\n",
       "      <td>(Music) (Applause) Trevor Copp: When \"Dancing ...</td>\n",
       "      <td>[if this started migrating itself into a norma...</td>\n",
       "      <td>0</td>\n",
       "    </tr>\n",
       "    <tr>\n",
       "      <th>4</th>\n",
       "      <td>4</td>\n",
       "      <td>We are applauding our own absence is a powerfu...</td>\n",
       "      <td>(Music) (Applause) Trevor Copp: When \"Dancing ...</td>\n",
       "      <td>[We are applauding our own absence is a powerf...</td>\n",
       "      <td>0</td>\n",
       "    </tr>\n",
       "  </tbody>\n",
       "</table>\n",
       "</div>"
      ],
      "text/plain": [
       "   index                                            comment  \\\n",
       "0      0  Transgenderism is a mental fucking disease ! N...   \n",
       "1      1  This is a wonderfully informative and hopeful ...   \n",
       "2      2  As you are a Climate Change denier, I feel obl...   \n",
       "3      3  if this started migrating itself into a normal...   \n",
       "4      4  We are applauding our own absence is a powerfu...   \n",
       "\n",
       "                                          transcript  \\\n",
       "0  (Music) (Applause) Trevor Copp: When \"Dancing ...   \n",
       "1  Thank you so much, Chris. And it's truly a gre...   \n",
       "2  Thank you so much, Chris. And it's truly a gre...   \n",
       "3  (Music) (Applause) Trevor Copp: When \"Dancing ...   \n",
       "4  (Music) (Applause) Trevor Copp: When \"Dancing ...   \n",
       "\n",
       "                                       com_tran_list  TED=1  \n",
       "0  [Transgenderism is a mental fucking disease ! ...      0  \n",
       "1  [This is a wonderfully informative and hopeful...      1  \n",
       "2  [As you are a Climate Change denier, I feel ob...      1  \n",
       "3  [if this started migrating itself into a norma...      0  \n",
       "4  [We are applauding our own absence is a powerf...      0  "
      ]
     },
     "execution_count": 3,
     "metadata": {},
     "output_type": "execute_result"
    }
   ],
   "source": [
    "print(dfx_y.shape)\n",
    "dfx_y = dfx_y.reset_index()\n",
    "dfx_y.head()"
   ]
  },
  {
   "cell_type": "code",
   "execution_count": 4,
   "metadata": {
    "collapsed": false
   },
   "outputs": [],
   "source": [
    "with open('svd_comments.pkl','rb') as picklefile:\n",
    "    df2 = pickle.load(picklefile)"
   ]
  },
  {
   "cell_type": "code",
   "execution_count": 5,
   "metadata": {
    "collapsed": false
   },
   "outputs": [
    {
     "name": "stdout",
     "output_type": "stream",
     "text": [
      "(100000, 10)\n"
     ]
    },
    {
     "data": {
      "text/html": [
       "<div>\n",
       "<table border=\"1\" class=\"dataframe\">\n",
       "  <thead>\n",
       "    <tr style=\"text-align: right;\">\n",
       "      <th></th>\n",
       "      <th>index</th>\n",
       "      <th>0</th>\n",
       "      <th>1</th>\n",
       "      <th>2</th>\n",
       "      <th>3</th>\n",
       "      <th>4</th>\n",
       "      <th>5</th>\n",
       "      <th>6</th>\n",
       "      <th>7</th>\n",
       "      <th>8</th>\n",
       "      <th>9</th>\n",
       "    </tr>\n",
       "  </thead>\n",
       "  <tbody>\n",
       "    <tr>\n",
       "      <th>0</th>\n",
       "      <td>0</td>\n",
       "      <td>0.016524</td>\n",
       "      <td>-0.006253</td>\n",
       "      <td>0.002719</td>\n",
       "      <td>0.000004</td>\n",
       "      <td>-0.003015</td>\n",
       "      <td>0.006835</td>\n",
       "      <td>-0.004977</td>\n",
       "      <td>-0.004460</td>\n",
       "      <td>-0.003085</td>\n",
       "      <td>-0.004221</td>\n",
       "    </tr>\n",
       "    <tr>\n",
       "      <th>1</th>\n",
       "      <td>1</td>\n",
       "      <td>0.161739</td>\n",
       "      <td>0.053766</td>\n",
       "      <td>0.060058</td>\n",
       "      <td>-0.112828</td>\n",
       "      <td>0.124430</td>\n",
       "      <td>-0.086072</td>\n",
       "      <td>-0.071893</td>\n",
       "      <td>-0.037568</td>\n",
       "      <td>-0.022300</td>\n",
       "      <td>-0.015814</td>\n",
       "    </tr>\n",
       "    <tr>\n",
       "      <th>2</th>\n",
       "      <td>2</td>\n",
       "      <td>0.108550</td>\n",
       "      <td>-0.047270</td>\n",
       "      <td>0.012682</td>\n",
       "      <td>-0.010828</td>\n",
       "      <td>-0.026289</td>\n",
       "      <td>-0.005126</td>\n",
       "      <td>0.007296</td>\n",
       "      <td>-0.025012</td>\n",
       "      <td>-0.030800</td>\n",
       "      <td>-0.008216</td>\n",
       "    </tr>\n",
       "    <tr>\n",
       "      <th>3</th>\n",
       "      <td>3</td>\n",
       "      <td>0.070030</td>\n",
       "      <td>-0.021546</td>\n",
       "      <td>0.007528</td>\n",
       "      <td>-0.000834</td>\n",
       "      <td>-0.007299</td>\n",
       "      <td>0.003508</td>\n",
       "      <td>-0.005931</td>\n",
       "      <td>-0.004316</td>\n",
       "      <td>-0.003534</td>\n",
       "      <td>-0.007534</td>\n",
       "    </tr>\n",
       "    <tr>\n",
       "      <th>4</th>\n",
       "      <td>4</td>\n",
       "      <td>0.014035</td>\n",
       "      <td>-0.000321</td>\n",
       "      <td>0.001313</td>\n",
       "      <td>-0.002434</td>\n",
       "      <td>-0.001320</td>\n",
       "      <td>0.002695</td>\n",
       "      <td>0.002846</td>\n",
       "      <td>0.000123</td>\n",
       "      <td>-0.004900</td>\n",
       "      <td>0.003657</td>\n",
       "    </tr>\n",
       "  </tbody>\n",
       "</table>\n",
       "</div>"
      ],
      "text/plain": [
       "   index         0         1         2         3         4         5  \\\n",
       "0      0  0.016524 -0.006253  0.002719  0.000004 -0.003015  0.006835   \n",
       "1      1  0.161739  0.053766  0.060058 -0.112828  0.124430 -0.086072   \n",
       "2      2  0.108550 -0.047270  0.012682 -0.010828 -0.026289 -0.005126   \n",
       "3      3  0.070030 -0.021546  0.007528 -0.000834 -0.007299  0.003508   \n",
       "4      4  0.014035 -0.000321  0.001313 -0.002434 -0.001320  0.002695   \n",
       "\n",
       "          6         7         8         9  \n",
       "0 -0.004977 -0.004460 -0.003085 -0.004221  \n",
       "1 -0.071893 -0.037568 -0.022300 -0.015814  \n",
       "2  0.007296 -0.025012 -0.030800 -0.008216  \n",
       "3 -0.005931 -0.004316 -0.003534 -0.007534  \n",
       "4  0.002846  0.000123 -0.004900  0.003657  "
      ]
     },
     "execution_count": 5,
     "metadata": {},
     "output_type": "execute_result"
    }
   ],
   "source": [
    "print(df2.shape)\n",
    "df2 = df2.reset_index()\n",
    "df2.head()"
   ]
  },
  {
   "cell_type": "code",
   "execution_count": 6,
   "metadata": {
    "collapsed": false
   },
   "outputs": [],
   "source": [
    "with open('cosine_lev.pkl','rb') as picklefile:\n",
    "    df3 = pickle.load(picklefile)"
   ]
  },
  {
   "cell_type": "code",
   "execution_count": 7,
   "metadata": {
    "collapsed": false
   },
   "outputs": [
    {
     "name": "stdout",
     "output_type": "stream",
     "text": [
      "(100000, 4)\n"
     ]
    },
    {
     "data": {
      "text/html": [
       "<div>\n",
       "<table border=\"1\" class=\"dataframe\">\n",
       "  <thead>\n",
       "    <tr style=\"text-align: right;\">\n",
       "      <th></th>\n",
       "      <th>index</th>\n",
       "      <th>comment</th>\n",
       "      <th>TED=1</th>\n",
       "      <th>cosine_sim</th>\n",
       "      <th>lev_distance</th>\n",
       "    </tr>\n",
       "  </thead>\n",
       "  <tbody>\n",
       "    <tr>\n",
       "      <th>0</th>\n",
       "      <td>0</td>\n",
       "      <td>Transgenderism is a mental fucking disease ! N...</td>\n",
       "      <td>0</td>\n",
       "      <td>0.000000</td>\n",
       "      <td>14</td>\n",
       "    </tr>\n",
       "    <tr>\n",
       "      <th>1</th>\n",
       "      <td>1</td>\n",
       "      <td>This is a wonderfully informative and hopeful ...</td>\n",
       "      <td>1</td>\n",
       "      <td>0.084987</td>\n",
       "      <td>54</td>\n",
       "    </tr>\n",
       "    <tr>\n",
       "      <th>2</th>\n",
       "      <td>2</td>\n",
       "      <td>As you are a Climate Change denier, I feel obl...</td>\n",
       "      <td>1</td>\n",
       "      <td>0.061111</td>\n",
       "      <td>52</td>\n",
       "    </tr>\n",
       "    <tr>\n",
       "      <th>3</th>\n",
       "      <td>3</td>\n",
       "      <td>if this started migrating itself into a normal...</td>\n",
       "      <td>0</td>\n",
       "      <td>0.023335</td>\n",
       "      <td>69</td>\n",
       "    </tr>\n",
       "    <tr>\n",
       "      <th>4</th>\n",
       "      <td>4</td>\n",
       "      <td>We are applauding our own absence is a powerfu...</td>\n",
       "      <td>0</td>\n",
       "      <td>0.011142</td>\n",
       "      <td>80</td>\n",
       "    </tr>\n",
       "  </tbody>\n",
       "</table>\n",
       "</div>"
      ],
      "text/plain": [
       "   index                                            comment  TED=1  \\\n",
       "0      0  Transgenderism is a mental fucking disease ! N...      0   \n",
       "1      1  This is a wonderfully informative and hopeful ...      1   \n",
       "2      2  As you are a Climate Change denier, I feel obl...      1   \n",
       "3      3  if this started migrating itself into a normal...      0   \n",
       "4      4  We are applauding our own absence is a powerfu...      0   \n",
       "\n",
       "   cosine_sim  lev_distance  \n",
       "0    0.000000            14  \n",
       "1    0.084987            54  \n",
       "2    0.061111            52  \n",
       "3    0.023335            69  \n",
       "4    0.011142            80  "
      ]
     },
     "execution_count": 7,
     "metadata": {},
     "output_type": "execute_result"
    }
   ],
   "source": [
    "print(df3.shape)\n",
    "df3 = df3.reset_index()\n",
    "df3.head()"
   ]
  },
  {
   "cell_type": "code",
   "execution_count": 8,
   "metadata": {
    "collapsed": true
   },
   "outputs": [],
   "source": [
    "with open('all_all_simple_features.pkl','rb') as p:\n",
    "    df4 = pickle.load(p)"
   ]
  },
  {
   "cell_type": "code",
   "execution_count": 9,
   "metadata": {
    "collapsed": false
   },
   "outputs": [
    {
     "name": "stdout",
     "output_type": "stream",
     "text": [
      "(100000, 10)\n"
     ]
    },
    {
     "data": {
      "text/html": [
       "<div>\n",
       "<table border=\"1\" class=\"dataframe\">\n",
       "  <thead>\n",
       "    <tr style=\"text-align: right;\">\n",
       "      <th></th>\n",
       "      <th>index</th>\n",
       "      <th>comment</th>\n",
       "      <th>length</th>\n",
       "      <th>tb_polarity</th>\n",
       "      <th>tb_subjectivity</th>\n",
       "      <th>nltk_vader_compound</th>\n",
       "      <th>target</th>\n",
       "      <th>troll</th>\n",
       "      <th>first_p</th>\n",
       "      <th>third_p</th>\n",
       "      <th>questions</th>\n",
       "    </tr>\n",
       "  </thead>\n",
       "  <tbody>\n",
       "    <tr>\n",
       "      <th>0</th>\n",
       "      <td>0</td>\n",
       "      <td>Transgenderism is a mental fucking disease ! N...</td>\n",
       "      <td>59</td>\n",
       "      <td>-0.425000</td>\n",
       "      <td>0.500000</td>\n",
       "      <td>0.0000</td>\n",
       "      <td>0</td>\n",
       "      <td>1</td>\n",
       "      <td>0.0</td>\n",
       "      <td>0.000000</td>\n",
       "      <td>0.0</td>\n",
       "    </tr>\n",
       "    <tr>\n",
       "      <th>1</th>\n",
       "      <td>1</td>\n",
       "      <td>This is a wonderfully informative and hopeful ...</td>\n",
       "      <td>823</td>\n",
       "      <td>0.294444</td>\n",
       "      <td>0.536111</td>\n",
       "      <td>0.9882</td>\n",
       "      <td>1</td>\n",
       "      <td>1</td>\n",
       "      <td>0.0</td>\n",
       "      <td>0.333333</td>\n",
       "      <td>0.0</td>\n",
       "    </tr>\n",
       "    <tr>\n",
       "      <th>2</th>\n",
       "      <td>2</td>\n",
       "      <td>As you are a Climate Change denier, I feel obl...</td>\n",
       "      <td>1210</td>\n",
       "      <td>-0.218056</td>\n",
       "      <td>0.416667</td>\n",
       "      <td>-0.2484</td>\n",
       "      <td>0</td>\n",
       "      <td>0</td>\n",
       "      <td>0.5</td>\n",
       "      <td>0.000000</td>\n",
       "      <td>0.0</td>\n",
       "    </tr>\n",
       "    <tr>\n",
       "      <th>3</th>\n",
       "      <td>3</td>\n",
       "      <td>if this started migrating itself into a normal...</td>\n",
       "      <td>173</td>\n",
       "      <td>0.125000</td>\n",
       "      <td>0.550000</td>\n",
       "      <td>0.6523</td>\n",
       "      <td>0</td>\n",
       "      <td>0</td>\n",
       "      <td>0.0</td>\n",
       "      <td>1.000000</td>\n",
       "      <td>0.0</td>\n",
       "    </tr>\n",
       "    <tr>\n",
       "      <th>4</th>\n",
       "      <td>4</td>\n",
       "      <td>We are applauding our own absence is a powerfu...</td>\n",
       "      <td>59</td>\n",
       "      <td>0.295833</td>\n",
       "      <td>0.666667</td>\n",
       "      <td>0.7096</td>\n",
       "      <td>0</td>\n",
       "      <td>0</td>\n",
       "      <td>0.0</td>\n",
       "      <td>0.000000</td>\n",
       "      <td>0.0</td>\n",
       "    </tr>\n",
       "  </tbody>\n",
       "</table>\n",
       "</div>"
      ],
      "text/plain": [
       "   index                                            comment  length  \\\n",
       "0      0  Transgenderism is a mental fucking disease ! N...      59   \n",
       "1      1  This is a wonderfully informative and hopeful ...     823   \n",
       "2      2  As you are a Climate Change denier, I feel obl...    1210   \n",
       "3      3  if this started migrating itself into a normal...     173   \n",
       "4      4  We are applauding our own absence is a powerfu...      59   \n",
       "\n",
       "   tb_polarity  tb_subjectivity  nltk_vader_compound  target  troll  first_p  \\\n",
       "0    -0.425000         0.500000               0.0000       0      1      0.0   \n",
       "1     0.294444         0.536111               0.9882       1      1      0.0   \n",
       "2    -0.218056         0.416667              -0.2484       0      0      0.5   \n",
       "3     0.125000         0.550000               0.6523       0      0      0.0   \n",
       "4     0.295833         0.666667               0.7096       0      0      0.0   \n",
       "\n",
       "    third_p  questions  \n",
       "0  0.000000        0.0  \n",
       "1  0.333333        0.0  \n",
       "2  0.000000        0.0  \n",
       "3  1.000000        0.0  \n",
       "4  0.000000        0.0  "
      ]
     },
     "execution_count": 9,
     "metadata": {},
     "output_type": "execute_result"
    }
   ],
   "source": [
    "print(df4.shape)\n",
    "df4 = df4.reset_index()\n",
    "df4.head()"
   ]
  },
  {
   "cell_type": "code",
   "execution_count": 10,
   "metadata": {
    "collapsed": false
   },
   "outputs": [],
   "source": [
    "df = pd.concat([dfx_y,df2,df3,df4],axis=1)"
   ]
  },
  {
   "cell_type": "code",
   "execution_count": 11,
   "metadata": {
    "collapsed": false
   },
   "outputs": [
    {
     "name": "stdout",
     "output_type": "stream",
     "text": [
      "(100000, 32)\n"
     ]
    },
    {
     "data": {
      "text/html": [
       "<div>\n",
       "<table border=\"1\" class=\"dataframe\">\n",
       "  <thead>\n",
       "    <tr style=\"text-align: right;\">\n",
       "      <th></th>\n",
       "      <th>index</th>\n",
       "      <th>comment</th>\n",
       "      <th>transcript</th>\n",
       "      <th>com_tran_list</th>\n",
       "      <th>TED=1</th>\n",
       "      <th>index</th>\n",
       "      <th>0</th>\n",
       "      <th>1</th>\n",
       "      <th>2</th>\n",
       "      <th>3</th>\n",
       "      <th>...</th>\n",
       "      <th>comment</th>\n",
       "      <th>length</th>\n",
       "      <th>tb_polarity</th>\n",
       "      <th>tb_subjectivity</th>\n",
       "      <th>nltk_vader_compound</th>\n",
       "      <th>target</th>\n",
       "      <th>troll</th>\n",
       "      <th>first_p</th>\n",
       "      <th>third_p</th>\n",
       "      <th>questions</th>\n",
       "    </tr>\n",
       "  </thead>\n",
       "  <tbody>\n",
       "    <tr>\n",
       "      <th>0</th>\n",
       "      <td>0</td>\n",
       "      <td>Transgenderism is a mental fucking disease ! N...</td>\n",
       "      <td>(Music) (Applause) Trevor Copp: When \"Dancing ...</td>\n",
       "      <td>[Transgenderism is a mental fucking disease ! ...</td>\n",
       "      <td>0</td>\n",
       "      <td>0</td>\n",
       "      <td>0.016524</td>\n",
       "      <td>-0.006253</td>\n",
       "      <td>0.002719</td>\n",
       "      <td>0.000004</td>\n",
       "      <td>...</td>\n",
       "      <td>Transgenderism is a mental fucking disease ! N...</td>\n",
       "      <td>59</td>\n",
       "      <td>-0.425000</td>\n",
       "      <td>0.500000</td>\n",
       "      <td>0.0000</td>\n",
       "      <td>0</td>\n",
       "      <td>1</td>\n",
       "      <td>0.0</td>\n",
       "      <td>0.000000</td>\n",
       "      <td>0.0</td>\n",
       "    </tr>\n",
       "    <tr>\n",
       "      <th>1</th>\n",
       "      <td>1</td>\n",
       "      <td>This is a wonderfully informative and hopeful ...</td>\n",
       "      <td>Thank you so much, Chris. And it's truly a gre...</td>\n",
       "      <td>[This is a wonderfully informative and hopeful...</td>\n",
       "      <td>1</td>\n",
       "      <td>1</td>\n",
       "      <td>0.161739</td>\n",
       "      <td>0.053766</td>\n",
       "      <td>0.060058</td>\n",
       "      <td>-0.112828</td>\n",
       "      <td>...</td>\n",
       "      <td>This is a wonderfully informative and hopeful ...</td>\n",
       "      <td>823</td>\n",
       "      <td>0.294444</td>\n",
       "      <td>0.536111</td>\n",
       "      <td>0.9882</td>\n",
       "      <td>1</td>\n",
       "      <td>1</td>\n",
       "      <td>0.0</td>\n",
       "      <td>0.333333</td>\n",
       "      <td>0.0</td>\n",
       "    </tr>\n",
       "    <tr>\n",
       "      <th>2</th>\n",
       "      <td>2</td>\n",
       "      <td>As you are a Climate Change denier, I feel obl...</td>\n",
       "      <td>Thank you so much, Chris. And it's truly a gre...</td>\n",
       "      <td>[As you are a Climate Change denier, I feel ob...</td>\n",
       "      <td>1</td>\n",
       "      <td>2</td>\n",
       "      <td>0.108550</td>\n",
       "      <td>-0.047270</td>\n",
       "      <td>0.012682</td>\n",
       "      <td>-0.010828</td>\n",
       "      <td>...</td>\n",
       "      <td>As you are a Climate Change denier, I feel obl...</td>\n",
       "      <td>1210</td>\n",
       "      <td>-0.218056</td>\n",
       "      <td>0.416667</td>\n",
       "      <td>-0.2484</td>\n",
       "      <td>0</td>\n",
       "      <td>0</td>\n",
       "      <td>0.5</td>\n",
       "      <td>0.000000</td>\n",
       "      <td>0.0</td>\n",
       "    </tr>\n",
       "    <tr>\n",
       "      <th>3</th>\n",
       "      <td>3</td>\n",
       "      <td>if this started migrating itself into a normal...</td>\n",
       "      <td>(Music) (Applause) Trevor Copp: When \"Dancing ...</td>\n",
       "      <td>[if this started migrating itself into a norma...</td>\n",
       "      <td>0</td>\n",
       "      <td>3</td>\n",
       "      <td>0.070030</td>\n",
       "      <td>-0.021546</td>\n",
       "      <td>0.007528</td>\n",
       "      <td>-0.000834</td>\n",
       "      <td>...</td>\n",
       "      <td>if this started migrating itself into a normal...</td>\n",
       "      <td>173</td>\n",
       "      <td>0.125000</td>\n",
       "      <td>0.550000</td>\n",
       "      <td>0.6523</td>\n",
       "      <td>0</td>\n",
       "      <td>0</td>\n",
       "      <td>0.0</td>\n",
       "      <td>1.000000</td>\n",
       "      <td>0.0</td>\n",
       "    </tr>\n",
       "    <tr>\n",
       "      <th>4</th>\n",
       "      <td>4</td>\n",
       "      <td>We are applauding our own absence is a powerfu...</td>\n",
       "      <td>(Music) (Applause) Trevor Copp: When \"Dancing ...</td>\n",
       "      <td>[We are applauding our own absence is a powerf...</td>\n",
       "      <td>0</td>\n",
       "      <td>4</td>\n",
       "      <td>0.014035</td>\n",
       "      <td>-0.000321</td>\n",
       "      <td>0.001313</td>\n",
       "      <td>-0.002434</td>\n",
       "      <td>...</td>\n",
       "      <td>We are applauding our own absence is a powerfu...</td>\n",
       "      <td>59</td>\n",
       "      <td>0.295833</td>\n",
       "      <td>0.666667</td>\n",
       "      <td>0.7096</td>\n",
       "      <td>0</td>\n",
       "      <td>0</td>\n",
       "      <td>0.0</td>\n",
       "      <td>0.000000</td>\n",
       "      <td>0.0</td>\n",
       "    </tr>\n",
       "  </tbody>\n",
       "</table>\n",
       "<p>5 rows × 32 columns</p>\n",
       "</div>"
      ],
      "text/plain": [
       "   index                                            comment  \\\n",
       "0      0  Transgenderism is a mental fucking disease ! N...   \n",
       "1      1  This is a wonderfully informative and hopeful ...   \n",
       "2      2  As you are a Climate Change denier, I feel obl...   \n",
       "3      3  if this started migrating itself into a normal...   \n",
       "4      4  We are applauding our own absence is a powerfu...   \n",
       "\n",
       "                                          transcript  \\\n",
       "0  (Music) (Applause) Trevor Copp: When \"Dancing ...   \n",
       "1  Thank you so much, Chris. And it's truly a gre...   \n",
       "2  Thank you so much, Chris. And it's truly a gre...   \n",
       "3  (Music) (Applause) Trevor Copp: When \"Dancing ...   \n",
       "4  (Music) (Applause) Trevor Copp: When \"Dancing ...   \n",
       "\n",
       "                                       com_tran_list  TED=1  index         0  \\\n",
       "0  [Transgenderism is a mental fucking disease ! ...      0      0  0.016524   \n",
       "1  [This is a wonderfully informative and hopeful...      1      1  0.161739   \n",
       "2  [As you are a Climate Change denier, I feel ob...      1      2  0.108550   \n",
       "3  [if this started migrating itself into a norma...      0      3  0.070030   \n",
       "4  [We are applauding our own absence is a powerf...      0      4  0.014035   \n",
       "\n",
       "          1         2         3    ...      \\\n",
       "0 -0.006253  0.002719  0.000004    ...       \n",
       "1  0.053766  0.060058 -0.112828    ...       \n",
       "2 -0.047270  0.012682 -0.010828    ...       \n",
       "3 -0.021546  0.007528 -0.000834    ...       \n",
       "4 -0.000321  0.001313 -0.002434    ...       \n",
       "\n",
       "                                             comment  length  tb_polarity  \\\n",
       "0  Transgenderism is a mental fucking disease ! N...      59    -0.425000   \n",
       "1  This is a wonderfully informative and hopeful ...     823     0.294444   \n",
       "2  As you are a Climate Change denier, I feel obl...    1210    -0.218056   \n",
       "3  if this started migrating itself into a normal...     173     0.125000   \n",
       "4  We are applauding our own absence is a powerfu...      59     0.295833   \n",
       "\n",
       "   tb_subjectivity  nltk_vader_compound  target  troll first_p   third_p  \\\n",
       "0         0.500000               0.0000       0      1     0.0  0.000000   \n",
       "1         0.536111               0.9882       1      1     0.0  0.333333   \n",
       "2         0.416667              -0.2484       0      0     0.5  0.000000   \n",
       "3         0.550000               0.6523       0      0     0.0  1.000000   \n",
       "4         0.666667               0.7096       0      0     0.0  0.000000   \n",
       "\n",
       "   questions  \n",
       "0        0.0  \n",
       "1        0.0  \n",
       "2        0.0  \n",
       "3        0.0  \n",
       "4        0.0  \n",
       "\n",
       "[5 rows x 32 columns]"
      ]
     },
     "execution_count": 11,
     "metadata": {},
     "output_type": "execute_result"
    }
   ],
   "source": [
    "print(df.shape)\n",
    "df.head()"
   ]
  },
  {
   "cell_type": "code",
   "execution_count": null,
   "metadata": {
    "collapsed": false
   },
   "outputs": [],
   "source": []
  },
  {
   "cell_type": "code",
   "execution_count": 12,
   "metadata": {
    "collapsed": false
   },
   "outputs": [
    {
     "data": {
      "text/plain": [
       "Index([              'index',             'comment',          'transcript',\n",
       "             'com_tran_list',               'TED=1',               'index',\n",
       "                           0,                     1,                     2,\n",
       "                           3,                     4,                     5,\n",
       "                           6,                     7,                     8,\n",
       "                           9,               'index',             'comment',\n",
       "                     'TED=1',          'cosine_sim',        'lev_distance',\n",
       "                     'index',             'comment',              'length',\n",
       "               'tb_polarity',     'tb_subjectivity', 'nltk_vader_compound',\n",
       "                    'target',               'troll',             'first_p',\n",
       "                   'third_p',           'questions'],\n",
       "      dtype='object')"
      ]
     },
     "execution_count": 12,
     "metadata": {},
     "output_type": "execute_result"
    }
   ],
   "source": [
    "df.columns"
   ]
  },
  {
   "cell_type": "code",
   "execution_count": 13,
   "metadata": {
    "collapsed": false
   },
   "outputs": [],
   "source": [
    "target = df['TED=1']\n",
    "tcols = ['TED=1','other']\n",
    "target.columns = tcols\n",
    "target = target.drop('other',axis=1)\n",
    "target = target['TED=1']\n",
    "\n",
    "df = df.drop(['TED=1',\n",
    "              'transcript',\n",
    "              'com_tran_list',\n",
    "              'level_0',\n",
    "              'index',\n",
    "              'comment'],axis=1)"
   ]
  },
  {
   "cell_type": "code",
   "execution_count": 14,
   "metadata": {
    "collapsed": false
   },
   "outputs": [
    {
     "data": {
      "text/html": [
       "<div>\n",
       "<table border=\"1\" class=\"dataframe\">\n",
       "  <thead>\n",
       "    <tr style=\"text-align: right;\">\n",
       "      <th></th>\n",
       "      <th>0</th>\n",
       "      <th>1</th>\n",
       "      <th>2</th>\n",
       "      <th>3</th>\n",
       "      <th>4</th>\n",
       "      <th>5</th>\n",
       "      <th>6</th>\n",
       "      <th>7</th>\n",
       "      <th>8</th>\n",
       "      <th>9</th>\n",
       "      <th>...</th>\n",
       "      <th>lev_distance</th>\n",
       "      <th>length</th>\n",
       "      <th>tb_polarity</th>\n",
       "      <th>tb_subjectivity</th>\n",
       "      <th>nltk_vader_compound</th>\n",
       "      <th>target</th>\n",
       "      <th>troll</th>\n",
       "      <th>first_p</th>\n",
       "      <th>third_p</th>\n",
       "      <th>questions</th>\n",
       "    </tr>\n",
       "  </thead>\n",
       "  <tbody>\n",
       "    <tr>\n",
       "      <th>0</th>\n",
       "      <td>0.016524</td>\n",
       "      <td>-0.006253</td>\n",
       "      <td>0.002719</td>\n",
       "      <td>0.000004</td>\n",
       "      <td>-0.003015</td>\n",
       "      <td>0.006835</td>\n",
       "      <td>-0.004977</td>\n",
       "      <td>-0.004460</td>\n",
       "      <td>-0.003085</td>\n",
       "      <td>-0.004221</td>\n",
       "      <td>...</td>\n",
       "      <td>14</td>\n",
       "      <td>59</td>\n",
       "      <td>-0.425000</td>\n",
       "      <td>0.500000</td>\n",
       "      <td>0.0000</td>\n",
       "      <td>0</td>\n",
       "      <td>1</td>\n",
       "      <td>0.0</td>\n",
       "      <td>0.000000</td>\n",
       "      <td>0.0</td>\n",
       "    </tr>\n",
       "    <tr>\n",
       "      <th>1</th>\n",
       "      <td>0.161739</td>\n",
       "      <td>0.053766</td>\n",
       "      <td>0.060058</td>\n",
       "      <td>-0.112828</td>\n",
       "      <td>0.124430</td>\n",
       "      <td>-0.086072</td>\n",
       "      <td>-0.071893</td>\n",
       "      <td>-0.037568</td>\n",
       "      <td>-0.022300</td>\n",
       "      <td>-0.015814</td>\n",
       "      <td>...</td>\n",
       "      <td>54</td>\n",
       "      <td>823</td>\n",
       "      <td>0.294444</td>\n",
       "      <td>0.536111</td>\n",
       "      <td>0.9882</td>\n",
       "      <td>1</td>\n",
       "      <td>1</td>\n",
       "      <td>0.0</td>\n",
       "      <td>0.333333</td>\n",
       "      <td>0.0</td>\n",
       "    </tr>\n",
       "    <tr>\n",
       "      <th>2</th>\n",
       "      <td>0.108550</td>\n",
       "      <td>-0.047270</td>\n",
       "      <td>0.012682</td>\n",
       "      <td>-0.010828</td>\n",
       "      <td>-0.026289</td>\n",
       "      <td>-0.005126</td>\n",
       "      <td>0.007296</td>\n",
       "      <td>-0.025012</td>\n",
       "      <td>-0.030800</td>\n",
       "      <td>-0.008216</td>\n",
       "      <td>...</td>\n",
       "      <td>52</td>\n",
       "      <td>1210</td>\n",
       "      <td>-0.218056</td>\n",
       "      <td>0.416667</td>\n",
       "      <td>-0.2484</td>\n",
       "      <td>0</td>\n",
       "      <td>0</td>\n",
       "      <td>0.5</td>\n",
       "      <td>0.000000</td>\n",
       "      <td>0.0</td>\n",
       "    </tr>\n",
       "    <tr>\n",
       "      <th>3</th>\n",
       "      <td>0.070030</td>\n",
       "      <td>-0.021546</td>\n",
       "      <td>0.007528</td>\n",
       "      <td>-0.000834</td>\n",
       "      <td>-0.007299</td>\n",
       "      <td>0.003508</td>\n",
       "      <td>-0.005931</td>\n",
       "      <td>-0.004316</td>\n",
       "      <td>-0.003534</td>\n",
       "      <td>-0.007534</td>\n",
       "      <td>...</td>\n",
       "      <td>69</td>\n",
       "      <td>173</td>\n",
       "      <td>0.125000</td>\n",
       "      <td>0.550000</td>\n",
       "      <td>0.6523</td>\n",
       "      <td>0</td>\n",
       "      <td>0</td>\n",
       "      <td>0.0</td>\n",
       "      <td>1.000000</td>\n",
       "      <td>0.0</td>\n",
       "    </tr>\n",
       "    <tr>\n",
       "      <th>4</th>\n",
       "      <td>0.014035</td>\n",
       "      <td>-0.000321</td>\n",
       "      <td>0.001313</td>\n",
       "      <td>-0.002434</td>\n",
       "      <td>-0.001320</td>\n",
       "      <td>0.002695</td>\n",
       "      <td>0.002846</td>\n",
       "      <td>0.000123</td>\n",
       "      <td>-0.004900</td>\n",
       "      <td>0.003657</td>\n",
       "      <td>...</td>\n",
       "      <td>80</td>\n",
       "      <td>59</td>\n",
       "      <td>0.295833</td>\n",
       "      <td>0.666667</td>\n",
       "      <td>0.7096</td>\n",
       "      <td>0</td>\n",
       "      <td>0</td>\n",
       "      <td>0.0</td>\n",
       "      <td>0.000000</td>\n",
       "      <td>0.0</td>\n",
       "    </tr>\n",
       "  </tbody>\n",
       "</table>\n",
       "<p>5 rows × 21 columns</p>\n",
       "</div>"
      ],
      "text/plain": [
       "          0         1         2         3         4         5         6  \\\n",
       "0  0.016524 -0.006253  0.002719  0.000004 -0.003015  0.006835 -0.004977   \n",
       "1  0.161739  0.053766  0.060058 -0.112828  0.124430 -0.086072 -0.071893   \n",
       "2  0.108550 -0.047270  0.012682 -0.010828 -0.026289 -0.005126  0.007296   \n",
       "3  0.070030 -0.021546  0.007528 -0.000834 -0.007299  0.003508 -0.005931   \n",
       "4  0.014035 -0.000321  0.001313 -0.002434 -0.001320  0.002695  0.002846   \n",
       "\n",
       "          7         8         9    ...      lev_distance  length  tb_polarity  \\\n",
       "0 -0.004460 -0.003085 -0.004221    ...                14      59    -0.425000   \n",
       "1 -0.037568 -0.022300 -0.015814    ...                54     823     0.294444   \n",
       "2 -0.025012 -0.030800 -0.008216    ...                52    1210    -0.218056   \n",
       "3 -0.004316 -0.003534 -0.007534    ...                69     173     0.125000   \n",
       "4  0.000123 -0.004900  0.003657    ...                80      59     0.295833   \n",
       "\n",
       "   tb_subjectivity  nltk_vader_compound  target  troll  first_p   third_p  \\\n",
       "0         0.500000               0.0000       0      1      0.0  0.000000   \n",
       "1         0.536111               0.9882       1      1      0.0  0.333333   \n",
       "2         0.416667              -0.2484       0      0      0.5  0.000000   \n",
       "3         0.550000               0.6523       0      0      0.0  1.000000   \n",
       "4         0.666667               0.7096       0      0      0.0  0.000000   \n",
       "\n",
       "   questions  \n",
       "0        0.0  \n",
       "1        0.0  \n",
       "2        0.0  \n",
       "3        0.0  \n",
       "4        0.0  \n",
       "\n",
       "[5 rows x 21 columns]"
      ]
     },
     "execution_count": 14,
     "metadata": {},
     "output_type": "execute_result"
    }
   ],
   "source": [
    "df.head()"
   ]
  },
  {
   "cell_type": "code",
   "execution_count": 15,
   "metadata": {
    "collapsed": true
   },
   "outputs": [],
   "source": [
    "with open('target.pkl','wb') as picklefile:\n",
    "    pickle.dump(target, picklefile)"
   ]
  },
  {
   "cell_type": "markdown",
   "metadata": {},
   "source": [
    "### pick up pickle"
   ]
  },
  {
   "cell_type": "code",
   "execution_count": 16,
   "metadata": {
    "collapsed": true
   },
   "outputs": [],
   "source": [
    "with open('target.pkl','rb') as picklefile:\n",
    "    target = pickle.load(picklefile)"
   ]
  },
  {
   "cell_type": "code",
   "execution_count": 17,
   "metadata": {
    "collapsed": false
   },
   "outputs": [
    {
     "data": {
      "text/html": [
       "<div>\n",
       "<table border=\"1\" class=\"dataframe\">\n",
       "  <thead>\n",
       "    <tr style=\"text-align: right;\">\n",
       "      <th></th>\n",
       "      <th>0</th>\n",
       "      <th>1</th>\n",
       "      <th>2</th>\n",
       "      <th>3</th>\n",
       "      <th>4</th>\n",
       "      <th>5</th>\n",
       "      <th>6</th>\n",
       "      <th>7</th>\n",
       "      <th>8</th>\n",
       "      <th>9</th>\n",
       "      <th>...</th>\n",
       "      <th>lev_distance</th>\n",
       "      <th>length</th>\n",
       "      <th>tb_polarity</th>\n",
       "      <th>tb_subjectivity</th>\n",
       "      <th>nltk_vader_compound</th>\n",
       "      <th>target</th>\n",
       "      <th>troll</th>\n",
       "      <th>first_p</th>\n",
       "      <th>third_p</th>\n",
       "      <th>questions</th>\n",
       "    </tr>\n",
       "  </thead>\n",
       "  <tbody>\n",
       "    <tr>\n",
       "      <th>0</th>\n",
       "      <td>0.016524</td>\n",
       "      <td>-0.006253</td>\n",
       "      <td>0.002719</td>\n",
       "      <td>0.000004</td>\n",
       "      <td>-0.003015</td>\n",
       "      <td>0.006835</td>\n",
       "      <td>-0.004977</td>\n",
       "      <td>-0.004460</td>\n",
       "      <td>-0.003085</td>\n",
       "      <td>-0.004221</td>\n",
       "      <td>...</td>\n",
       "      <td>14</td>\n",
       "      <td>59</td>\n",
       "      <td>-0.425000</td>\n",
       "      <td>0.500000</td>\n",
       "      <td>0.0000</td>\n",
       "      <td>0</td>\n",
       "      <td>1</td>\n",
       "      <td>0.0</td>\n",
       "      <td>0.000000</td>\n",
       "      <td>0.0</td>\n",
       "    </tr>\n",
       "    <tr>\n",
       "      <th>1</th>\n",
       "      <td>0.161739</td>\n",
       "      <td>0.053766</td>\n",
       "      <td>0.060058</td>\n",
       "      <td>-0.112828</td>\n",
       "      <td>0.124430</td>\n",
       "      <td>-0.086072</td>\n",
       "      <td>-0.071893</td>\n",
       "      <td>-0.037568</td>\n",
       "      <td>-0.022300</td>\n",
       "      <td>-0.015814</td>\n",
       "      <td>...</td>\n",
       "      <td>54</td>\n",
       "      <td>823</td>\n",
       "      <td>0.294444</td>\n",
       "      <td>0.536111</td>\n",
       "      <td>0.9882</td>\n",
       "      <td>1</td>\n",
       "      <td>1</td>\n",
       "      <td>0.0</td>\n",
       "      <td>0.333333</td>\n",
       "      <td>0.0</td>\n",
       "    </tr>\n",
       "    <tr>\n",
       "      <th>2</th>\n",
       "      <td>0.108550</td>\n",
       "      <td>-0.047270</td>\n",
       "      <td>0.012682</td>\n",
       "      <td>-0.010828</td>\n",
       "      <td>-0.026289</td>\n",
       "      <td>-0.005126</td>\n",
       "      <td>0.007296</td>\n",
       "      <td>-0.025012</td>\n",
       "      <td>-0.030800</td>\n",
       "      <td>-0.008216</td>\n",
       "      <td>...</td>\n",
       "      <td>52</td>\n",
       "      <td>1210</td>\n",
       "      <td>-0.218056</td>\n",
       "      <td>0.416667</td>\n",
       "      <td>-0.2484</td>\n",
       "      <td>0</td>\n",
       "      <td>0</td>\n",
       "      <td>0.5</td>\n",
       "      <td>0.000000</td>\n",
       "      <td>0.0</td>\n",
       "    </tr>\n",
       "    <tr>\n",
       "      <th>3</th>\n",
       "      <td>0.070030</td>\n",
       "      <td>-0.021546</td>\n",
       "      <td>0.007528</td>\n",
       "      <td>-0.000834</td>\n",
       "      <td>-0.007299</td>\n",
       "      <td>0.003508</td>\n",
       "      <td>-0.005931</td>\n",
       "      <td>-0.004316</td>\n",
       "      <td>-0.003534</td>\n",
       "      <td>-0.007534</td>\n",
       "      <td>...</td>\n",
       "      <td>69</td>\n",
       "      <td>173</td>\n",
       "      <td>0.125000</td>\n",
       "      <td>0.550000</td>\n",
       "      <td>0.6523</td>\n",
       "      <td>0</td>\n",
       "      <td>0</td>\n",
       "      <td>0.0</td>\n",
       "      <td>1.000000</td>\n",
       "      <td>0.0</td>\n",
       "    </tr>\n",
       "    <tr>\n",
       "      <th>4</th>\n",
       "      <td>0.014035</td>\n",
       "      <td>-0.000321</td>\n",
       "      <td>0.001313</td>\n",
       "      <td>-0.002434</td>\n",
       "      <td>-0.001320</td>\n",
       "      <td>0.002695</td>\n",
       "      <td>0.002846</td>\n",
       "      <td>0.000123</td>\n",
       "      <td>-0.004900</td>\n",
       "      <td>0.003657</td>\n",
       "      <td>...</td>\n",
       "      <td>80</td>\n",
       "      <td>59</td>\n",
       "      <td>0.295833</td>\n",
       "      <td>0.666667</td>\n",
       "      <td>0.7096</td>\n",
       "      <td>0</td>\n",
       "      <td>0</td>\n",
       "      <td>0.0</td>\n",
       "      <td>0.000000</td>\n",
       "      <td>0.0</td>\n",
       "    </tr>\n",
       "  </tbody>\n",
       "</table>\n",
       "<p>5 rows × 21 columns</p>\n",
       "</div>"
      ],
      "text/plain": [
       "          0         1         2         3         4         5         6  \\\n",
       "0  0.016524 -0.006253  0.002719  0.000004 -0.003015  0.006835 -0.004977   \n",
       "1  0.161739  0.053766  0.060058 -0.112828  0.124430 -0.086072 -0.071893   \n",
       "2  0.108550 -0.047270  0.012682 -0.010828 -0.026289 -0.005126  0.007296   \n",
       "3  0.070030 -0.021546  0.007528 -0.000834 -0.007299  0.003508 -0.005931   \n",
       "4  0.014035 -0.000321  0.001313 -0.002434 -0.001320  0.002695  0.002846   \n",
       "\n",
       "          7         8         9    ...      lev_distance  length  tb_polarity  \\\n",
       "0 -0.004460 -0.003085 -0.004221    ...                14      59    -0.425000   \n",
       "1 -0.037568 -0.022300 -0.015814    ...                54     823     0.294444   \n",
       "2 -0.025012 -0.030800 -0.008216    ...                52    1210    -0.218056   \n",
       "3 -0.004316 -0.003534 -0.007534    ...                69     173     0.125000   \n",
       "4  0.000123 -0.004900  0.003657    ...                80      59     0.295833   \n",
       "\n",
       "   tb_subjectivity  nltk_vader_compound  target  troll  first_p   third_p  \\\n",
       "0         0.500000               0.0000       0      1      0.0  0.000000   \n",
       "1         0.536111               0.9882       1      1      0.0  0.333333   \n",
       "2         0.416667              -0.2484       0      0      0.5  0.000000   \n",
       "3         0.550000               0.6523       0      0      0.0  1.000000   \n",
       "4         0.666667               0.7096       0      0      0.0  0.000000   \n",
       "\n",
       "   questions  \n",
       "0        0.0  \n",
       "1        0.0  \n",
       "2        0.0  \n",
       "3        0.0  \n",
       "4        0.0  \n",
       "\n",
       "[5 rows x 21 columns]"
      ]
     },
     "execution_count": 17,
     "metadata": {},
     "output_type": "execute_result"
    }
   ],
   "source": [
    "df.head()"
   ]
  },
  {
   "cell_type": "code",
   "execution_count": 18,
   "metadata": {
    "collapsed": true
   },
   "outputs": [],
   "source": [
    "features = df"
   ]
  },
  {
   "cell_type": "code",
   "execution_count": 38,
   "metadata": {
    "collapsed": true
   },
   "outputs": [],
   "source": [
    "with open('features.pkl','wb') as picklefile:\n",
    "    pickle.dump(features, picklefile)"
   ]
  },
  {
   "cell_type": "markdown",
   "metadata": {},
   "source": [
    "### pick up pickle"
   ]
  },
  {
   "cell_type": "code",
   "execution_count": 40,
   "metadata": {
    "collapsed": true
   },
   "outputs": [],
   "source": [
    "with open('features.pkl','rb') as picklefile:\n",
    "    features = pickle.load(picklefile)"
   ]
  },
  {
   "cell_type": "code",
   "execution_count": 19,
   "metadata": {
    "collapsed": false
   },
   "outputs": [
    {
     "data": {
      "text/html": [
       "<div>\n",
       "<table border=\"1\" class=\"dataframe\">\n",
       "  <thead>\n",
       "    <tr style=\"text-align: right;\">\n",
       "      <th></th>\n",
       "      <th>0</th>\n",
       "      <th>1</th>\n",
       "      <th>2</th>\n",
       "      <th>3</th>\n",
       "      <th>4</th>\n",
       "      <th>5</th>\n",
       "      <th>6</th>\n",
       "      <th>7</th>\n",
       "      <th>8</th>\n",
       "      <th>9</th>\n",
       "      <th>...</th>\n",
       "      <th>length</th>\n",
       "      <th>tb_polarity</th>\n",
       "      <th>tb_subjectivity</th>\n",
       "      <th>nltk_vader_compound</th>\n",
       "      <th>target</th>\n",
       "      <th>troll</th>\n",
       "      <th>first_p</th>\n",
       "      <th>third_p</th>\n",
       "      <th>questions</th>\n",
       "      <th>RANDOM</th>\n",
       "    </tr>\n",
       "  </thead>\n",
       "  <tbody>\n",
       "    <tr>\n",
       "      <th>0</th>\n",
       "      <td>0.016524</td>\n",
       "      <td>-0.006253</td>\n",
       "      <td>0.002719</td>\n",
       "      <td>0.000004</td>\n",
       "      <td>-0.003015</td>\n",
       "      <td>0.006835</td>\n",
       "      <td>-0.004977</td>\n",
       "      <td>-0.004460</td>\n",
       "      <td>-0.003085</td>\n",
       "      <td>-0.004221</td>\n",
       "      <td>...</td>\n",
       "      <td>59</td>\n",
       "      <td>-0.425000</td>\n",
       "      <td>0.500000</td>\n",
       "      <td>0.0000</td>\n",
       "      <td>0</td>\n",
       "      <td>1</td>\n",
       "      <td>0.0</td>\n",
       "      <td>0.000000</td>\n",
       "      <td>0.0</td>\n",
       "      <td>0.435646</td>\n",
       "    </tr>\n",
       "    <tr>\n",
       "      <th>1</th>\n",
       "      <td>0.161739</td>\n",
       "      <td>0.053766</td>\n",
       "      <td>0.060058</td>\n",
       "      <td>-0.112828</td>\n",
       "      <td>0.124430</td>\n",
       "      <td>-0.086072</td>\n",
       "      <td>-0.071893</td>\n",
       "      <td>-0.037568</td>\n",
       "      <td>-0.022300</td>\n",
       "      <td>-0.015814</td>\n",
       "      <td>...</td>\n",
       "      <td>823</td>\n",
       "      <td>0.294444</td>\n",
       "      <td>0.536111</td>\n",
       "      <td>0.9882</td>\n",
       "      <td>1</td>\n",
       "      <td>1</td>\n",
       "      <td>0.0</td>\n",
       "      <td>0.333333</td>\n",
       "      <td>0.0</td>\n",
       "      <td>0.722748</td>\n",
       "    </tr>\n",
       "    <tr>\n",
       "      <th>2</th>\n",
       "      <td>0.108550</td>\n",
       "      <td>-0.047270</td>\n",
       "      <td>0.012682</td>\n",
       "      <td>-0.010828</td>\n",
       "      <td>-0.026289</td>\n",
       "      <td>-0.005126</td>\n",
       "      <td>0.007296</td>\n",
       "      <td>-0.025012</td>\n",
       "      <td>-0.030800</td>\n",
       "      <td>-0.008216</td>\n",
       "      <td>...</td>\n",
       "      <td>1210</td>\n",
       "      <td>-0.218056</td>\n",
       "      <td>0.416667</td>\n",
       "      <td>-0.2484</td>\n",
       "      <td>0</td>\n",
       "      <td>0</td>\n",
       "      <td>0.5</td>\n",
       "      <td>0.000000</td>\n",
       "      <td>0.0</td>\n",
       "      <td>0.471856</td>\n",
       "    </tr>\n",
       "    <tr>\n",
       "      <th>3</th>\n",
       "      <td>0.070030</td>\n",
       "      <td>-0.021546</td>\n",
       "      <td>0.007528</td>\n",
       "      <td>-0.000834</td>\n",
       "      <td>-0.007299</td>\n",
       "      <td>0.003508</td>\n",
       "      <td>-0.005931</td>\n",
       "      <td>-0.004316</td>\n",
       "      <td>-0.003534</td>\n",
       "      <td>-0.007534</td>\n",
       "      <td>...</td>\n",
       "      <td>173</td>\n",
       "      <td>0.125000</td>\n",
       "      <td>0.550000</td>\n",
       "      <td>0.6523</td>\n",
       "      <td>0</td>\n",
       "      <td>0</td>\n",
       "      <td>0.0</td>\n",
       "      <td>1.000000</td>\n",
       "      <td>0.0</td>\n",
       "      <td>0.945030</td>\n",
       "    </tr>\n",
       "    <tr>\n",
       "      <th>4</th>\n",
       "      <td>0.014035</td>\n",
       "      <td>-0.000321</td>\n",
       "      <td>0.001313</td>\n",
       "      <td>-0.002434</td>\n",
       "      <td>-0.001320</td>\n",
       "      <td>0.002695</td>\n",
       "      <td>0.002846</td>\n",
       "      <td>0.000123</td>\n",
       "      <td>-0.004900</td>\n",
       "      <td>0.003657</td>\n",
       "      <td>...</td>\n",
       "      <td>59</td>\n",
       "      <td>0.295833</td>\n",
       "      <td>0.666667</td>\n",
       "      <td>0.7096</td>\n",
       "      <td>0</td>\n",
       "      <td>0</td>\n",
       "      <td>0.0</td>\n",
       "      <td>0.000000</td>\n",
       "      <td>0.0</td>\n",
       "      <td>0.247024</td>\n",
       "    </tr>\n",
       "  </tbody>\n",
       "</table>\n",
       "<p>5 rows × 22 columns</p>\n",
       "</div>"
      ],
      "text/plain": [
       "          0         1         2         3         4         5         6  \\\n",
       "0  0.016524 -0.006253  0.002719  0.000004 -0.003015  0.006835 -0.004977   \n",
       "1  0.161739  0.053766  0.060058 -0.112828  0.124430 -0.086072 -0.071893   \n",
       "2  0.108550 -0.047270  0.012682 -0.010828 -0.026289 -0.005126  0.007296   \n",
       "3  0.070030 -0.021546  0.007528 -0.000834 -0.007299  0.003508 -0.005931   \n",
       "4  0.014035 -0.000321  0.001313 -0.002434 -0.001320  0.002695  0.002846   \n",
       "\n",
       "          7         8         9    ...     length  tb_polarity  \\\n",
       "0 -0.004460 -0.003085 -0.004221    ...         59    -0.425000   \n",
       "1 -0.037568 -0.022300 -0.015814    ...        823     0.294444   \n",
       "2 -0.025012 -0.030800 -0.008216    ...       1210    -0.218056   \n",
       "3 -0.004316 -0.003534 -0.007534    ...        173     0.125000   \n",
       "4  0.000123 -0.004900  0.003657    ...         59     0.295833   \n",
       "\n",
       "   tb_subjectivity  nltk_vader_compound  target  troll  first_p   third_p  \\\n",
       "0         0.500000               0.0000       0      1      0.0  0.000000   \n",
       "1         0.536111               0.9882       1      1      0.0  0.333333   \n",
       "2         0.416667              -0.2484       0      0      0.5  0.000000   \n",
       "3         0.550000               0.6523       0      0      0.0  1.000000   \n",
       "4         0.666667               0.7096       0      0      0.0  0.000000   \n",
       "\n",
       "   questions    RANDOM  \n",
       "0        0.0  0.435646  \n",
       "1        0.0  0.722748  \n",
       "2        0.0  0.471856  \n",
       "3        0.0  0.945030  \n",
       "4        0.0  0.247024  \n",
       "\n",
       "[5 rows x 22 columns]"
      ]
     },
     "execution_count": 19,
     "metadata": {},
     "output_type": "execute_result"
    }
   ],
   "source": [
    "features['RANDOM'] = [random.random() for i in range(len(features))]\n",
    "features.head()"
   ]
  },
  {
   "cell_type": "code",
   "execution_count": 20,
   "metadata": {
    "collapsed": false
   },
   "outputs": [],
   "source": [
    "X_train, X_test, y_train, y_test = train_test_split(features,target,test_size=0.3,random_state=42)"
   ]
  },
  {
   "cell_type": "code",
   "execution_count": 21,
   "metadata": {
    "collapsed": false
   },
   "outputs": [],
   "source": [
    "X_train = scale(X_train)\n",
    "X_test = scale(X_test)"
   ]
  },
  {
   "cell_type": "code",
   "execution_count": 22,
   "metadata": {
    "collapsed": false
   },
   "outputs": [],
   "source": [
    "models = {}\n",
    "\n",
    "# models['KNN'] = KNeighborsClassifier()\n",
    "# models['LR'] = LogisticRegression()\n",
    "# models['SVC'] = SVC()\n",
    "# models['DecisionTree'] = DecisionTreeClassifier()\n",
    "# models['GradientBoost'] = GradientBoostingClassifier()\n",
    "# models['AdaBoost'] = AdaBoostClassifier()\n",
    "models['RandomForest'] = RandomForestClassifier()\n",
    "\n",
    "# RFparams = {n_estimators=1000,n_jobs=4, max_features=5,\n",
    "#               class_weight='balanced_subsample',max_depth=10}"
   ]
  },
  {
   "cell_type": "code",
   "execution_count": 23,
   "metadata": {
    "collapsed": false
   },
   "outputs": [
    {
     "name": "stdout",
     "output_type": "stream",
     "text": [
      "Model: RandomForest\n",
      "Accuracy: 0.720728816076\n",
      "Precision: 0.785709430633\n",
      "Recall: 0.738187874664\n",
      "f1: 0.759888579566\n",
      "\n"
     ]
    }
   ],
   "source": [
    "for name, model in models.items():\n",
    "    scores = cross_val_score(model, X_train, y_train, n_jobs=1, cv = 10)\n",
    "    precision = cross_val_score(model, X_train, y_train, cv=10, scoring='precision')\n",
    "    recall = cross_val_score(model, X_train, y_train, cv=10, scoring='recall')\n",
    "    f1 = cross_val_score(model, X_train, y_train, cv=10, scoring='f1')\n",
    "    print('Model: ' + name)\n",
    "    print('Accuracy: ' + str(np.mean(scores)))\n",
    "    print('Precision: ' + str(np.mean(precision)))\n",
    "    print('Recall: ' + str(np.mean(recall)))\n",
    "    print('f1: ' + str(np.mean(f1)))\n",
    "    print(\"\")"
   ]
  },
  {
   "cell_type": "code",
   "execution_count": 24,
   "metadata": {
    "collapsed": false
   },
   "outputs": [],
   "source": [
    "with open('rf_model.pkl','wb') as p:\n",
    "    pickle.dump(model,p)"
   ]
  },
  {
   "cell_type": "markdown",
   "metadata": {},
   "source": [
    "### pick up pickle"
   ]
  },
  {
   "cell_type": "code",
   "execution_count": 25,
   "metadata": {
    "collapsed": true
   },
   "outputs": [],
   "source": [
    "with open('rf_model.pkl','rb') as p:\n",
    "    model = pickle.load(p)"
   ]
  },
  {
   "cell_type": "code",
   "execution_count": 26,
   "metadata": {
    "collapsed": false
   },
   "outputs": [
    {
     "name": "stdout",
     "output_type": "stream",
     "text": [
      "Model: RandomForest\n",
      "             precision    recall  f1-score   support\n",
      "\n",
      "          0       0.63      0.70      0.66     11907\n",
      "          1       0.79      0.72      0.75     18093\n",
      "\n",
      "avg / total       0.72      0.72      0.72     30000\n",
      "\n",
      "\n"
     ]
    }
   ],
   "source": [
    "for name, model in models.items():\n",
    "    model.fit(X_train,y_train)\n",
    "    y_pred = model.predict(X_test)    \n",
    "    print('Model: ' + name)\n",
    "    print(classification_report(y_test,y_pred))\n",
    "    print(\"\")"
   ]
  },
  {
   "cell_type": "code",
   "execution_count": 27,
   "metadata": {
    "collapsed": true
   },
   "outputs": [],
   "source": [
    "def pr_curve(truthvec, scorevec, digit_prec=2):\n",
    "    threshvec = np.unique(np.round(scorevec,digit_prec))\n",
    "    numthresh = len(threshvec)\n",
    "    tpvec = np.zeros(numthresh)\n",
    "    fpvec = np.zeros(numthresh)\n",
    "    fnvec = np.zeros(numthresh)\n",
    "\n",
    "    for i in range(numthresh):\n",
    "        thresh = threshvec[i]\n",
    "        tpvec[i] = sum(truthvec[scorevec>=thresh])\n",
    "        fpvec[i] = sum(1-truthvec[scorevec>=thresh])\n",
    "        fnvec[i] = sum(truthvec[scorevec<thresh])\n",
    "    recallvec = tpvec/(tpvec + fnvec)\n",
    "    precisionvec = tpvec/(tpvec + fpvec)\n",
    "    plt.plot(precisionvec,recallvec,label=name)\n",
    "    plt.legend()\n",
    "    plt.axis([0, 1, 0, 1])\n",
    "    plt.xlabel(\"Precision\")\n",
    "    plt.ylabel(\"Recall\")\n",
    "    return (recallvec, precisionvec, threshvec)"
   ]
  },
  {
   "cell_type": "code",
   "execution_count": 28,
   "metadata": {
    "collapsed": true
   },
   "outputs": [],
   "source": [
    "models_roc = {}\n",
    "\n",
    "# models_roc['KNN'] = KNeighborsClassifier()\n",
    "# models_roc['LR'] = LogisticRegression()\n",
    "# models_roc['DecisionTree'] = DecisionTreeClassifier()\n",
    "# models_roc['GradientBoost'] = GradientBoostingClassifier()\n",
    "# models_roc['AdaBoost'] = AdaBoostClassifier()\n",
    "models_roc['RandomForest'] = RandomForestClassifier()"
   ]
  },
  {
   "cell_type": "code",
   "execution_count": null,
   "metadata": {
    "collapsed": false
   },
   "outputs": [],
   "source": []
  },
  {
   "cell_type": "code",
   "execution_count": 29,
   "metadata": {
    "collapsed": false
   },
   "outputs": [
    {
     "data": {
      "image/png": "[encoded data removed]",
      "text/plain": [
       "<matplotlib.figure.Figure at 0x105dda588>"
      ]
     },
     "metadata": {},
     "output_type": "display_data"
    }
   ],
   "source": [
    "for name, model in models_roc.items():\n",
    "    model.fit(X_train, y_train)\n",
    "    recallvec, precisionvec, threshvec = pr_curve(y_test,model.predict_proba(X_test)[:,1])"
   ]
  },
  {
   "cell_type": "code",
   "execution_count": 30,
   "metadata": {
    "collapsed": false
   },
   "outputs": [
    {
     "name": "stdout",
     "output_type": "stream",
     "text": [
      "Model:  RandomForest\n",
      "0.794507766349\n",
      "\n"
     ]
    },
    {
     "data": {
      "image/png": "[encoded data removed]",
      "text/plain": [
       "<matplotlib.figure.Figure at 0x125c600f0>"
      ]
     },
     "metadata": {},
     "output_type": "display_data"
    }
   ],
   "source": [
    "for name, model in models_roc.items():\n",
    "    model.fit(X_train, y_train)\n",
    "    y_pred = np.asarray(model.predict_proba(X_test)[:,1])\n",
    "    fpr, tpr, thresholds = roc_curve(np.asarray(y_test),y_pred)\n",
    "    plt.plot(fpr, tpr, label=name)\n",
    "    plt.legend(loc='lower right')\n",
    "    plt.title('ROC curve')\n",
    "    print('Model: ', name)\n",
    "    print(roc_auc_score(y_test,y_pred))\n",
    "    print(\"\")"
   ]
  },
  {
   "cell_type": "markdown",
   "metadata": {},
   "source": [
    "### Feature importance"
   ]
  },
  {
   "cell_type": "code",
   "execution_count": 31,
   "metadata": {
    "collapsed": true
   },
   "outputs": [],
   "source": [
    "models_fi = {}\n",
    "\n",
    "# models_fi['DecisionTree'] = DecisionTreeClassifier()\n",
    "# models_fi['GradientBoost'] = GradientBoostingClassifier()\n",
    "# models_fi['AdaBoost'] = AdaBoostClassifier()\n",
    "models_fi['RandomForest'] = RandomForestClassifier()"
   ]
  },
  {
   "cell_type": "code",
   "execution_count": 32,
   "metadata": {
    "collapsed": false,
    "scrolled": true
   },
   "outputs": [
    {
     "name": "stdout",
     "output_type": "stream",
     "text": [
      "Model:  RandomForest\n",
      "('length', 0.17615958103603319)\n",
      "('nltk_vader_compound', 0.078836964206574239)\n",
      "(0, 0.065372154754284081)\n",
      "(8, 0.051408859850673463)\n",
      "('tb_polarity', 0.049437030260157971)\n",
      "(6, 0.049049756883397397)\n",
      "('RANDOM', 0.048972580261759005)\n",
      "('lev_distance', 0.045506587777658168)\n",
      "(2, 0.044254006995347761)\n",
      "(9, 0.044134731991278403)\n",
      "(1, 0.043478614756649103)\n",
      "('cosine_sim', 0.043080432908143215)\n",
      "(3, 0.0419752249571997)\n",
      "(5, 0.041307787872869477)\n",
      "('tb_subjectivity', 0.039981663045708792)\n",
      "(7, 0.039880183083647977)\n",
      "(4, 0.039523900827670468)\n",
      "('first_p', 0.02088542173251165)\n",
      "('questions', 0.010997013606389624)\n",
      "('third_p', 0.0097451717413464169)\n",
      "('troll', 0.0093085421532397225)\n",
      "('target', 0.006703789297460243)\n",
      "\n"
     ]
    }
   ],
   "source": [
    "for name, model in models_fi.items():\n",
    "    model.fit(X_train, y_train)\n",
    "    sorted_features = sorted(zip(features,model.feature_importances_), key=lambda tup: abs(tup[1]), reverse=True)\n",
    "    print('Model: ',name)\n",
    "    for feature in sorted_features:\n",
    "        print(feature)\n",
    "    \n",
    "    print(\"\")"
   ]
  },
  {
   "cell_type": "code",
   "execution_count": 33,
   "metadata": {
    "collapsed": false
   },
   "outputs": [
    {
     "name": "stderr",
     "output_type": "stream",
     "text": [
      "/Users/THoshino/anaconda/envs/py35/lib/python3.5/site-packages/sklearn/utils/validation.py:386: DeprecationWarning: Passing 1d arrays as data is deprecated in 0.17 and willraise ValueError in 0.19. Reshape your data either using X.reshape(-1, 1) if your data has a single feature or X.reshape(1, -1) if it contains a single sample.\n",
      "  DeprecationWarning)\n"
     ]
    },
    {
     "data": {
      "text/plain": [
       "array([[ 0.3,  0.7]])"
      ]
     },
     "execution_count": 33,
     "metadata": {},
     "output_type": "execute_result"
    }
   ],
   "source": [
    "model.predict_proba(X_test[0])"
   ]
  },
  {
   "cell_type": "code",
   "execution_count": 34,
   "metadata": {
    "collapsed": false,
    "scrolled": false
   },
   "outputs": [],
   "source": [
    "# t_reg = sm.Logit(y_train,X_train).fit_regularized(alpha=0.1,maxiter=10000,\n",
    "#                                                  qc_verbose=True, trim_mode='size',\n",
    "#                                                 size_trim_tol =0.1)\n",
    "# t_reg.summary()"
   ]
  },
  {
   "cell_type": "code",
   "execution_count": 35,
   "metadata": {
    "collapsed": false
   },
   "outputs": [],
   "source": [
    "# for f in features.columns:\n",
    "#     print(f)"
   ]
  },
  {
   "cell_type": "code",
   "execution_count": null,
   "metadata": {
    "collapsed": true
   },
   "outputs": [],
   "source": []
  },
  {
   "cell_type": "code",
   "execution_count": 36,
   "metadata": {
    "collapsed": true
   },
   "outputs": [],
   "source": [
    "# get rid of highly correlated features\n",
    "# grid search RF using method from Ed"
   ]
  },
  {
   "cell_type": "code",
   "execution_count": 37,
   "metadata": {
    "collapsed": true
   },
   "outputs": [],
   "source": [
    "# pr_curve\n",
    "# https://github.com/th27/nyc16_ds9/blob/master/class_lectures/week05-mcnulty2/day1/Affair_Predictor_Completed.ipynb\n",
    "# https://github.com/th27/nyc16_ds9/blob/master/class_lectures/week04-mcnulty1/day3/Random%20forest%20Classification.ipynb"
   ]
  }
 ],
 "metadata": {
  "anaconda-cloud": {},
  "kernelspec": {
   "display_name": "Python 3",
   "language": "python",
   "name": "python3"
  },
  "language_info": {
   "codemirror_mode": {
    "name": "ipython",
    "version": 3
   },
   "file_extension": ".py",
   "mimetype": "text/x-python",
   "name": "python",
   "nbconvert_exporter": "python",
   "pygments_lexer": "ipython3",
   "version": "3.5.2"
  }
 },
 "nbformat": 4,
 "nbformat_minor": 1
}
