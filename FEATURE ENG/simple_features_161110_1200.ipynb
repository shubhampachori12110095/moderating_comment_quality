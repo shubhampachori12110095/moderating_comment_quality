{
 "cells": [
  {
   "cell_type": "markdown",
   "metadata": {},
   "source": [
    "### Imports"
   ]
  },
  {
   "cell_type": "code",
   "execution_count": 1,
   "metadata": {
    "collapsed": false
   },
   "outputs": [],
   "source": [
    "import pandas as pd\n",
    "import numpy as np\n",
    "\n",
    "import random\n",
    "import re\n",
    "from collections import Counter\n",
    "import time\n",
    "import pickle\n",
    "import operator\n",
    "import csv\n",
    "\n",
    "import matplotlib.pyplot as plt\n",
    "import seaborn as sns\n",
    "%matplotlib inline\n",
    "\n",
    "\n",
    "from pymongo import MongoClient\n",
    "\n",
    "from sklearn.feature_extraction.text import TfidfVectorizer, CountVectorizer, TfidfTransformer\n",
    "from sklearn.feature_extraction.stop_words import ENGLISH_STOP_WORDS\n",
    "from sklearn.metrics.pairwise import cosine_similarity\n",
    "from sklearn.decomposition import NMF, LatentDirichletAllocation, TruncatedSVD\n",
    "from sklearn.preprocessing import Normalizer\n",
    "from textblob import TextBlob\n",
    "from nltk.corpus import stopwords\n",
    "from nltk.tokenize import word_tokenize, wordpunct_tokenize, WhitespaceTokenizer\n",
    "import nltk\n",
    "from nltk.sentiment.vader import SentimentIntensityAnalyzer"
   ]
  },
  {
   "cell_type": "code",
   "execution_count": 80,
   "metadata": {
    "collapsed": false
   },
   "outputs": [],
   "source": [
    "# timing function\n",
    "def timefunc(f):\n",
    "    def f_timer(*args, **kwargs):\n",
    "        start = time.time()\n",
    "        result = f(*args, **kwargs)\n",
    "        end = time.time()\n",
    "        print(f.__name__, 'took', end - start, 'seconds')\n",
    "        return result\n",
    "    return f_timer"
   ]
  },
  {
   "cell_type": "markdown",
   "metadata": {},
   "source": [
    "### Get pickled sample data"
   ]
  },
  {
   "cell_type": "code",
   "execution_count": 38,
   "metadata": {
    "collapsed": true
   },
   "outputs": [],
   "source": [
    "with open('master.pkl','rb') as p:\n",
    "    com_trans = pickle.load(p)"
   ]
  },
  {
   "cell_type": "code",
   "execution_count": 39,
   "metadata": {
    "collapsed": false
   },
   "outputs": [
    {
     "data": {
      "text/html": [
       "<div>\n",
       "<table border=\"1\" class=\"dataframe\">\n",
       "  <thead>\n",
       "    <tr style=\"text-align: right;\">\n",
       "      <th></th>\n",
       "      <th>comment</th>\n",
       "      <th>transcript</th>\n",
       "      <th>com_tran_list</th>\n",
       "      <th>TED=1</th>\n",
       "    </tr>\n",
       "  </thead>\n",
       "  <tbody>\n",
       "    <tr>\n",
       "      <th>0</th>\n",
       "      <td>Transgenderism is a mental fucking disease ! N...</td>\n",
       "      <td>(Music) (Applause) Trevor Copp: When \"Dancing ...</td>\n",
       "      <td>[Transgenderism is a mental fucking disease ! ...</td>\n",
       "      <td>0</td>\n",
       "    </tr>\n",
       "    <tr>\n",
       "      <th>1</th>\n",
       "      <td>This is a wonderfully informative and hopeful ...</td>\n",
       "      <td>Thank you so much, Chris. And it's truly a gre...</td>\n",
       "      <td>[This is a wonderfully informative and hopeful...</td>\n",
       "      <td>1</td>\n",
       "    </tr>\n",
       "    <tr>\n",
       "      <th>2</th>\n",
       "      <td>As you are a Climate Change denier, I feel obl...</td>\n",
       "      <td>Thank you so much, Chris. And it's truly a gre...</td>\n",
       "      <td>[As you are a Climate Change denier, I feel ob...</td>\n",
       "      <td>1</td>\n",
       "    </tr>\n",
       "    <tr>\n",
       "      <th>3</th>\n",
       "      <td>if this started migrating itself into a normal...</td>\n",
       "      <td>(Music) (Applause) Trevor Copp: When \"Dancing ...</td>\n",
       "      <td>[if this started migrating itself into a norma...</td>\n",
       "      <td>0</td>\n",
       "    </tr>\n",
       "    <tr>\n",
       "      <th>4</th>\n",
       "      <td>We are applauding our own absence is a powerfu...</td>\n",
       "      <td>(Music) (Applause) Trevor Copp: When \"Dancing ...</td>\n",
       "      <td>[We are applauding our own absence is a powerf...</td>\n",
       "      <td>0</td>\n",
       "    </tr>\n",
       "  </tbody>\n",
       "</table>\n",
       "</div>"
      ],
      "text/plain": [
       "                                             comment  \\\n",
       "0  Transgenderism is a mental fucking disease ! N...   \n",
       "1  This is a wonderfully informative and hopeful ...   \n",
       "2  As you are a Climate Change denier, I feel obl...   \n",
       "3  if this started migrating itself into a normal...   \n",
       "4  We are applauding our own absence is a powerfu...   \n",
       "\n",
       "                                          transcript  \\\n",
       "0  (Music) (Applause) Trevor Copp: When \"Dancing ...   \n",
       "1  Thank you so much, Chris. And it's truly a gre...   \n",
       "2  Thank you so much, Chris. And it's truly a gre...   \n",
       "3  (Music) (Applause) Trevor Copp: When \"Dancing ...   \n",
       "4  (Music) (Applause) Trevor Copp: When \"Dancing ...   \n",
       "\n",
       "                                       com_tran_list  TED=1  \n",
       "0  [Transgenderism is a mental fucking disease ! ...      0  \n",
       "1  [This is a wonderfully informative and hopeful...      1  \n",
       "2  [As you are a Climate Change denier, I feel ob...      1  \n",
       "3  [if this started migrating itself into a norma...      0  \n",
       "4  [We are applauding our own absence is a powerf...      0  "
      ]
     },
     "execution_count": 39,
     "metadata": {},
     "output_type": "execute_result"
    }
   ],
   "source": [
    "com_trans.head()"
   ]
  },
  {
   "cell_type": "code",
   "execution_count": 40,
   "metadata": {
    "collapsed": true
   },
   "outputs": [],
   "source": [
    "# df['com_tran_list'] = list(zip(df.comment, df.transcript))"
   ]
  },
  {
   "cell_type": "code",
   "execution_count": 41,
   "metadata": {
    "collapsed": false
   },
   "outputs": [],
   "source": [
    "all_comments = com_trans[['comment']]"
   ]
  },
  {
   "cell_type": "code",
   "execution_count": 42,
   "metadata": {
    "collapsed": false
   },
   "outputs": [],
   "source": [
    "comment_only = all_comments"
   ]
  },
  {
   "cell_type": "code",
   "execution_count": 43,
   "metadata": {
    "collapsed": false
   },
   "outputs": [],
   "source": [
    "comments = comment_only.copy()"
   ]
  },
  {
   "cell_type": "code",
   "execution_count": 44,
   "metadata": {
    "collapsed": false,
    "scrolled": true
   },
   "outputs": [
    {
     "name": "stdout",
     "output_type": "stream",
     "text": [
      "(100000, 1)\n"
     ]
    },
    {
     "data": {
      "text/html": [
       "<div>\n",
       "<table border=\"1\" class=\"dataframe\">\n",
       "  <thead>\n",
       "    <tr style=\"text-align: right;\">\n",
       "      <th></th>\n",
       "      <th>comment</th>\n",
       "    </tr>\n",
       "  </thead>\n",
       "  <tbody>\n",
       "    <tr>\n",
       "      <th>0</th>\n",
       "      <td>Transgenderism is a mental fucking disease ! N...</td>\n",
       "    </tr>\n",
       "    <tr>\n",
       "      <th>1</th>\n",
       "      <td>This is a wonderfully informative and hopeful ...</td>\n",
       "    </tr>\n",
       "    <tr>\n",
       "      <th>2</th>\n",
       "      <td>As you are a Climate Change denier, I feel obl...</td>\n",
       "    </tr>\n",
       "    <tr>\n",
       "      <th>3</th>\n",
       "      <td>if this started migrating itself into a normal...</td>\n",
       "    </tr>\n",
       "    <tr>\n",
       "      <th>4</th>\n",
       "      <td>We are applauding our own absence is a powerfu...</td>\n",
       "    </tr>\n",
       "  </tbody>\n",
       "</table>\n",
       "</div>"
      ],
      "text/plain": [
       "                                             comment\n",
       "0  Transgenderism is a mental fucking disease ! N...\n",
       "1  This is a wonderfully informative and hopeful ...\n",
       "2  As you are a Climate Change denier, I feel obl...\n",
       "3  if this started migrating itself into a normal...\n",
       "4  We are applauding our own absence is a powerfu..."
      ]
     },
     "execution_count": 44,
     "metadata": {},
     "output_type": "execute_result"
    }
   ],
   "source": [
    "print(comments.shape)\n",
    "comments.head()"
   ]
  },
  {
   "cell_type": "markdown",
   "metadata": {},
   "source": [
    "### Simple length"
   ]
  },
  {
   "cell_type": "code",
   "execution_count": 45,
   "metadata": {
    "collapsed": false
   },
   "outputs": [],
   "source": [
    "length = lambda x: len(x)\n",
    "comments['length'] = comments.comment.apply(length)"
   ]
  },
  {
   "cell_type": "code",
   "execution_count": null,
   "metadata": {
    "collapsed": true
   },
   "outputs": [],
   "source": []
  },
  {
   "cell_type": "code",
   "execution_count": null,
   "metadata": {
    "collapsed": true
   },
   "outputs": [],
   "source": []
  },
  {
   "cell_type": "code",
   "execution_count": null,
   "metadata": {
    "collapsed": true
   },
   "outputs": [],
   "source": []
  },
  {
   "cell_type": "code",
   "execution_count": 46,
   "metadata": {
    "collapsed": false
   },
   "outputs": [
    {
     "data": {
      "text/html": [
       "<div>\n",
       "<table border=\"1\" class=\"dataframe\">\n",
       "  <thead>\n",
       "    <tr style=\"text-align: right;\">\n",
       "      <th></th>\n",
       "      <th>comment</th>\n",
       "      <th>length</th>\n",
       "    </tr>\n",
       "  </thead>\n",
       "  <tbody>\n",
       "    <tr>\n",
       "      <th>0</th>\n",
       "      <td>Transgenderism is a mental fucking disease ! N...</td>\n",
       "      <td>59</td>\n",
       "    </tr>\n",
       "    <tr>\n",
       "      <th>1</th>\n",
       "      <td>This is a wonderfully informative and hopeful ...</td>\n",
       "      <td>823</td>\n",
       "    </tr>\n",
       "    <tr>\n",
       "      <th>2</th>\n",
       "      <td>As you are a Climate Change denier, I feel obl...</td>\n",
       "      <td>1210</td>\n",
       "    </tr>\n",
       "    <tr>\n",
       "      <th>3</th>\n",
       "      <td>if this started migrating itself into a normal...</td>\n",
       "      <td>173</td>\n",
       "    </tr>\n",
       "    <tr>\n",
       "      <th>4</th>\n",
       "      <td>We are applauding our own absence is a powerfu...</td>\n",
       "      <td>59</td>\n",
       "    </tr>\n",
       "  </tbody>\n",
       "</table>\n",
       "</div>"
      ],
      "text/plain": [
       "                                             comment  length\n",
       "0  Transgenderism is a mental fucking disease ! N...      59\n",
       "1  This is a wonderfully informative and hopeful ...     823\n",
       "2  As you are a Climate Change denier, I feel obl...    1210\n",
       "3  if this started migrating itself into a normal...     173\n",
       "4  We are applauding our own absence is a powerfu...      59"
      ]
     },
     "execution_count": 46,
     "metadata": {},
     "output_type": "execute_result"
    }
   ],
   "source": [
    "comments.head()"
   ]
  },
  {
   "cell_type": "code",
   "execution_count": 47,
   "metadata": {
    "collapsed": true
   },
   "outputs": [],
   "source": [
    "with open('target.pkl','rb') as picklefile:\n",
    "    target = pickle.load(picklefile)"
   ]
  },
  {
   "cell_type": "code",
   "execution_count": 49,
   "metadata": {
    "collapsed": false
   },
   "outputs": [],
   "source": [
    "comments['target'] = target"
   ]
  },
  {
   "cell_type": "code",
   "execution_count": 50,
   "metadata": {
    "collapsed": false
   },
   "outputs": [
    {
     "data": {
      "text/plain": [
       "Index(['comment', 'length', 'target'], dtype='object')"
      ]
     },
     "execution_count": 50,
     "metadata": {},
     "output_type": "execute_result"
    }
   ],
   "source": [
    "comments.columns"
   ]
  },
  {
   "cell_type": "code",
   "execution_count": 51,
   "metadata": {
    "collapsed": true
   },
   "outputs": [],
   "source": [
    "comments_ = comments[['length', 'target']].copy()"
   ]
  },
  {
   "cell_type": "code",
   "execution_count": 52,
   "metadata": {
    "collapsed": true
   },
   "outputs": [],
   "source": [
    "TED = comments_[comments_['target'] == 1]\n",
    "YT = comments_[comments_['target'] == 0]"
   ]
  },
  {
   "cell_type": "code",
   "execution_count": 60,
   "metadata": {
    "collapsed": true
   },
   "outputs": [],
   "source": [
    "x_l = TED.length\n",
    "y_l = YT.length"
   ]
  },
  {
   "cell_type": "code",
   "execution_count": 68,
   "metadata": {
    "collapsed": false
   },
   "outputs": [
    {
     "name": "stderr",
     "output_type": "stream",
     "text": [
      "/Users/THoshino/anaconda/envs/py35/lib/python3.5/site-packages/statsmodels/nonparametric/kdetools.py:20: VisibleDeprecationWarning: using a non-integer number instead of an integer will result in an error in the future\n",
      "  y = X[:m/2+1] + np.r_[0,X[m/2+1:],0]*1j\n"
     ]
    },
    {
     "data": {
      "image/png": "[encoded data removed]",
      "text/plain": [
       "<matplotlib.figure.Figure at 0x126c5aeb8>"
      ]
     },
     "metadata": {},
     "output_type": "display_data"
    }
   ],
   "source": [
    "import matplotlib.pyplot as plt\n",
    "import seaborn as sns\n",
    "%matplotlib inline\n",
    "\n",
    "# fig, ax = plt.subplots()\n",
    "sns.set_style(\"whitegrid\")\n",
    "sns.distplot(x_l,label='TED',bins=100)\n",
    "sns.distplot(y_l,label='YT', bins=100)\n",
    "plt.xlim(0,2500);"
   ]
  },
  {
   "cell_type": "code",
   "execution_count": null,
   "metadata": {
    "collapsed": true
   },
   "outputs": [],
   "source": []
  },
  {
   "cell_type": "code",
   "execution_count": null,
   "metadata": {
    "collapsed": true
   },
   "outputs": [],
   "source": []
  },
  {
   "cell_type": "markdown",
   "metadata": {},
   "source": [
    "### Simple sentiment"
   ]
  },
  {
   "cell_type": "code",
   "execution_count": 90,
   "metadata": {
    "collapsed": false
   },
   "outputs": [],
   "source": [
    "def text_blob_polarity(text):\n",
    "    tb = TextBlob(text)\n",
    "    return tb.sentiment.polarity"
   ]
  },
  {
   "cell_type": "code",
   "execution_count": 91,
   "metadata": {
    "collapsed": false
   },
   "outputs": [],
   "source": [
    "def text_blob_subjectivity(text):\n",
    "    tb = TextBlob(text)\n",
    "    return tb.sentiment.subjectivity"
   ]
  },
  {
   "cell_type": "code",
   "execution_count": 92,
   "metadata": {
    "collapsed": false
   },
   "outputs": [
    {
     "data": {
      "text/plain": [
       "0.6666666666666666"
      ]
     },
     "execution_count": 92,
     "metadata": {},
     "output_type": "execute_result"
    }
   ],
   "source": [
    "text_blob_subjectivity(comments.comment[4])"
   ]
  },
  {
   "cell_type": "code",
   "execution_count": 93,
   "metadata": {
    "collapsed": false
   },
   "outputs": [
    {
     "data": {
      "text/plain": [
       "0.29583333333333334"
      ]
     },
     "execution_count": 93,
     "metadata": {},
     "output_type": "execute_result"
    }
   ],
   "source": [
    "text_blob_polarity(comments.comment[4])"
   ]
  },
  {
   "cell_type": "code",
   "execution_count": 94,
   "metadata": {
    "collapsed": true
   },
   "outputs": [],
   "source": [
    "comments['tb_polarity'] = comments.comment.apply(text_blob_polarity)\n",
    "comments['tb_subjectivity'] = comments.comment.apply(text_blob_subjectivity)"
   ]
  },
  {
   "cell_type": "code",
   "execution_count": 95,
   "metadata": {
    "collapsed": false
   },
   "outputs": [
    {
     "name": "stdout",
     "output_type": "stream",
     "text": [
      "(100000, 4)\n"
     ]
    },
    {
     "data": {
      "text/html": [
       "<div>\n",
       "<table border=\"1\" class=\"dataframe\">\n",
       "  <thead>\n",
       "    <tr style=\"text-align: right;\">\n",
       "      <th></th>\n",
       "      <th>comment</th>\n",
       "      <th>length</th>\n",
       "      <th>tb_polarity</th>\n",
       "      <th>tb_subjectivity</th>\n",
       "    </tr>\n",
       "  </thead>\n",
       "  <tbody>\n",
       "    <tr>\n",
       "      <th>0</th>\n",
       "      <td>Transgenderism is a mental fucking disease ! N...</td>\n",
       "      <td>59</td>\n",
       "      <td>-0.425000</td>\n",
       "      <td>0.500000</td>\n",
       "    </tr>\n",
       "    <tr>\n",
       "      <th>1</th>\n",
       "      <td>This is a wonderfully informative and hopeful ...</td>\n",
       "      <td>823</td>\n",
       "      <td>0.294444</td>\n",
       "      <td>0.536111</td>\n",
       "    </tr>\n",
       "    <tr>\n",
       "      <th>2</th>\n",
       "      <td>As you are a Climate Change denier, I feel obl...</td>\n",
       "      <td>1210</td>\n",
       "      <td>-0.218056</td>\n",
       "      <td>0.416667</td>\n",
       "    </tr>\n",
       "    <tr>\n",
       "      <th>3</th>\n",
       "      <td>if this started migrating itself into a normal...</td>\n",
       "      <td>173</td>\n",
       "      <td>0.125000</td>\n",
       "      <td>0.550000</td>\n",
       "    </tr>\n",
       "    <tr>\n",
       "      <th>4</th>\n",
       "      <td>We are applauding our own absence is a powerfu...</td>\n",
       "      <td>59</td>\n",
       "      <td>0.295833</td>\n",
       "      <td>0.666667</td>\n",
       "    </tr>\n",
       "  </tbody>\n",
       "</table>\n",
       "</div>"
      ],
      "text/plain": [
       "                                             comment  length  tb_polarity  \\\n",
       "0  Transgenderism is a mental fucking disease ! N...      59    -0.425000   \n",
       "1  This is a wonderfully informative and hopeful ...     823     0.294444   \n",
       "2  As you are a Climate Change denier, I feel obl...    1210    -0.218056   \n",
       "3  if this started migrating itself into a normal...     173     0.125000   \n",
       "4  We are applauding our own absence is a powerfu...      59     0.295833   \n",
       "\n",
       "   tb_subjectivity  \n",
       "0         0.500000  \n",
       "1         0.536111  \n",
       "2         0.416667  \n",
       "3         0.550000  \n",
       "4         0.666667  "
      ]
     },
     "execution_count": 95,
     "metadata": {},
     "output_type": "execute_result"
    }
   ],
   "source": [
    "print(comments.shape)\n",
    "comments.head()"
   ]
  },
  {
   "cell_type": "code",
   "execution_count": 96,
   "metadata": {
    "collapsed": true
   },
   "outputs": [],
   "source": [
    "with open('length_and_text_blob.pkl','wb') as p:\n",
    "    pickle.dump(comments,p)"
   ]
  },
  {
   "cell_type": "markdown",
   "metadata": {},
   "source": [
    "### pick up pickle"
   ]
  },
  {
   "cell_type": "code",
   "execution_count": 97,
   "metadata": {
    "collapsed": true
   },
   "outputs": [],
   "source": [
    "with open('length_and_text_blob.pkl','rb') as p:\n",
    "    comments = pickle.load(p)"
   ]
  },
  {
   "cell_type": "code",
   "execution_count": 98,
   "metadata": {
    "collapsed": false
   },
   "outputs": [],
   "source": [
    "def nltk_vader_compound(text):\n",
    "    sia = SentimentIntensityAnalyzer()\n",
    "    score = sia.polarity_scores(text)['compound']\n",
    "    return score"
   ]
  },
  {
   "cell_type": "code",
   "execution_count": 99,
   "metadata": {
    "collapsed": true
   },
   "outputs": [],
   "source": [
    "comments['nltk_vader_compound'] = comments.comment.apply(nltk_vader_compound)"
   ]
  },
  {
   "cell_type": "code",
   "execution_count": 100,
   "metadata": {
    "collapsed": false
   },
   "outputs": [],
   "source": [
    "comments_1 = comments.copy()"
   ]
  },
  {
   "cell_type": "code",
   "execution_count": 101,
   "metadata": {
    "collapsed": true
   },
   "outputs": [],
   "source": [
    "with open('length_and_sentiment.pkl','wb') as p:\n",
    "    pickle.dump(comments_1,p)"
   ]
  },
  {
   "cell_type": "markdown",
   "metadata": {},
   "source": [
    "### pick up pickle"
   ]
  },
  {
   "cell_type": "code",
   "execution_count": 2,
   "metadata": {
    "collapsed": false
   },
   "outputs": [],
   "source": [
    "with open('length_and_sentiment.pkl','rb') as p:\n",
    "    comments_1 = pickle.load(p)"
   ]
  },
  {
   "cell_type": "code",
   "execution_count": 3,
   "metadata": {
    "collapsed": false
   },
   "outputs": [
    {
     "name": "stdout",
     "output_type": "stream",
     "text": [
      "(100000, 5)\n"
     ]
    },
    {
     "data": {
      "text/html": [
       "<div>\n",
       "<table border=\"1\" class=\"dataframe\">\n",
       "  <thead>\n",
       "    <tr style=\"text-align: right;\">\n",
       "      <th></th>\n",
       "      <th>comment</th>\n",
       "      <th>length</th>\n",
       "      <th>tb_polarity</th>\n",
       "      <th>tb_subjectivity</th>\n",
       "      <th>nltk_vader_compound</th>\n",
       "    </tr>\n",
       "  </thead>\n",
       "  <tbody>\n",
       "    <tr>\n",
       "      <th>0</th>\n",
       "      <td>Transgenderism is a mental fucking disease ! N...</td>\n",
       "      <td>59</td>\n",
       "      <td>-0.425000</td>\n",
       "      <td>0.500000</td>\n",
       "      <td>0.0000</td>\n",
       "    </tr>\n",
       "    <tr>\n",
       "      <th>1</th>\n",
       "      <td>This is a wonderfully informative and hopeful ...</td>\n",
       "      <td>823</td>\n",
       "      <td>0.294444</td>\n",
       "      <td>0.536111</td>\n",
       "      <td>0.9882</td>\n",
       "    </tr>\n",
       "    <tr>\n",
       "      <th>2</th>\n",
       "      <td>As you are a Climate Change denier, I feel obl...</td>\n",
       "      <td>1210</td>\n",
       "      <td>-0.218056</td>\n",
       "      <td>0.416667</td>\n",
       "      <td>-0.2484</td>\n",
       "    </tr>\n",
       "    <tr>\n",
       "      <th>3</th>\n",
       "      <td>if this started migrating itself into a normal...</td>\n",
       "      <td>173</td>\n",
       "      <td>0.125000</td>\n",
       "      <td>0.550000</td>\n",
       "      <td>0.6523</td>\n",
       "    </tr>\n",
       "    <tr>\n",
       "      <th>4</th>\n",
       "      <td>We are applauding our own absence is a powerfu...</td>\n",
       "      <td>59</td>\n",
       "      <td>0.295833</td>\n",
       "      <td>0.666667</td>\n",
       "      <td>0.7096</td>\n",
       "    </tr>\n",
       "  </tbody>\n",
       "</table>\n",
       "</div>"
      ],
      "text/plain": [
       "                                             comment  length  tb_polarity  \\\n",
       "0  Transgenderism is a mental fucking disease ! N...      59    -0.425000   \n",
       "1  This is a wonderfully informative and hopeful ...     823     0.294444   \n",
       "2  As you are a Climate Change denier, I feel obl...    1210    -0.218056   \n",
       "3  if this started migrating itself into a normal...     173     0.125000   \n",
       "4  We are applauding our own absence is a powerfu...      59     0.295833   \n",
       "\n",
       "   tb_subjectivity  nltk_vader_compound  \n",
       "0         0.500000               0.0000  \n",
       "1         0.536111               0.9882  \n",
       "2         0.416667              -0.2484  \n",
       "3         0.550000               0.6523  \n",
       "4         0.666667               0.7096  "
      ]
     },
     "execution_count": 3,
     "metadata": {},
     "output_type": "execute_result"
    }
   ],
   "source": [
    "print(comments_1.shape)\n",
    "comments_1.head()"
   ]
  },
  {
   "cell_type": "code",
   "execution_count": 4,
   "metadata": {
    "collapsed": true
   },
   "outputs": [],
   "source": [
    "with open('target.pkl','rb') as picklefile:\n",
    "    target = pickle.load(picklefile)"
   ]
  },
  {
   "cell_type": "code",
   "execution_count": 7,
   "metadata": {
    "collapsed": true
   },
   "outputs": [],
   "source": [
    "comments_1['target'] = target"
   ]
  },
  {
   "cell_type": "code",
   "execution_count": 8,
   "metadata": {
    "collapsed": false
   },
   "outputs": [],
   "source": [
    "TED = comments_1[comments_1['target'] == 1]\n",
    "YT = comments_1[comments_1['target'] == 0]"
   ]
  },
  {
   "cell_type": "code",
   "execution_count": 9,
   "metadata": {
    "collapsed": false
   },
   "outputs": [],
   "source": [
    "x = TED.nltk_vader_compound\n",
    "y = YT.nltk_vader_compound"
   ]
  },
  {
   "cell_type": "code",
   "execution_count": 17,
   "metadata": {
    "collapsed": false
   },
   "outputs": [],
   "source": [
    "x = x[x != 0].copy()\n",
    "y = y[y != 0].copy()"
   ]
  },
  {
   "cell_type": "code",
   "execution_count": 36,
   "metadata": {
    "collapsed": false
   },
   "outputs": [
    {
     "name": "stderr",
     "output_type": "stream",
     "text": [
      "/Users/THoshino/anaconda/envs/py35/lib/python3.5/site-packages/statsmodels/nonparametric/kdetools.py:20: VisibleDeprecationWarning: using a non-integer number instead of an integer will result in an error in the future\n",
      "  y = X[:m/2+1] + np.r_[0,X[m/2+1:],0]*1j\n"
     ]
    },
    {
     "data": {
      "image/png": "[encoded data removed]",
      "text/plain": [
       "<matplotlib.figure.Figure at 0x11d34f6a0>"
      ]
     },
     "metadata": {},
     "output_type": "display_data"
    }
   ],
   "source": [
    "fig, ax = plt.subplots()\n",
    "sns.set_style(\"whitegrid\")\n",
    "sns.distplot(x)\n",
    "sns.distplot(y)\n",
    "plt.xlim(-1,1);"
   ]
  },
  {
   "cell_type": "code",
   "execution_count": null,
   "metadata": {
    "collapsed": true
   },
   "outputs": [],
   "source": []
  },
  {
   "cell_type": "code",
   "execution_count": null,
   "metadata": {
    "collapsed": true
   },
   "outputs": [],
   "source": []
  },
  {
   "cell_type": "markdown",
   "metadata": {},
   "source": [
    "### Bad words count"
   ]
  },
  {
   "cell_type": "code",
   "execution_count": 124,
   "metadata": {
    "collapsed": false
   },
   "outputs": [],
   "source": [
    "bwl_1 = pd.read_csv('bad_words_list.csv',header=None)\n",
    "bwlist_1 = list(bwl_1[0])"
   ]
  },
  {
   "cell_type": "code",
   "execution_count": 125,
   "metadata": {
    "collapsed": false
   },
   "outputs": [],
   "source": [
    "bwl_2 = pd.read_csv('bad_list_fb.csv',header=None)\n",
    "bwlist_2 = list(bwl_2.transpose()[0])"
   ]
  },
  {
   "cell_type": "code",
   "execution_count": 126,
   "metadata": {
    "collapsed": false
   },
   "outputs": [],
   "source": [
    "bwl_3 = pd.read_csv('bad_list_google.csv',header=None)\n",
    "bwlist_3 = list(bwl_3[0])"
   ]
  },
  {
   "cell_type": "code",
   "execution_count": 127,
   "metadata": {
    "collapsed": false
   },
   "outputs": [],
   "source": [
    "bwl_4 = pd.read_csv('bad_list_christian.csv',header=None)\n",
    "bwlist_4 = list(bwl_4[0])"
   ]
  },
  {
   "cell_type": "code",
   "execution_count": 128,
   "metadata": {
    "collapsed": false
   },
   "outputs": [
    {
     "data": {
      "text/plain": [
       "1542"
      ]
     },
     "execution_count": 128,
     "metadata": {},
     "output_type": "execute_result"
    }
   ],
   "source": [
    "bwlist = set(bwlist_1 + bwlist_2 + bwlist_3 + bwlist_4)\n",
    "len(bwlist)"
   ]
  },
  {
   "cell_type": "code",
   "execution_count": 129,
   "metadata": {
    "collapsed": false
   },
   "outputs": [],
   "source": [
    "def bad_word_counter(text):\n",
    "    tokens = word_tokenize(text)\n",
    "    counter = 0\n",
    "    for i in tokens:\n",
    "        if i in bwlist:\n",
    "            counter += 1\n",
    "    return counter"
   ]
  },
  {
   "cell_type": "code",
   "execution_count": 130,
   "metadata": {
    "collapsed": false
   },
   "outputs": [],
   "source": [
    "comments_2 = comments_1.copy()"
   ]
  },
  {
   "cell_type": "code",
   "execution_count": 131,
   "metadata": {
    "collapsed": true
   },
   "outputs": [],
   "source": [
    "comments_2['troll'] = comments_2.comment.apply(bad_word_counter)"
   ]
  },
  {
   "cell_type": "code",
   "execution_count": 132,
   "metadata": {
    "collapsed": false
   },
   "outputs": [
    {
     "name": "stdout",
     "output_type": "stream",
     "text": [
      "(100000, 7)\n"
     ]
    },
    {
     "data": {
      "text/html": [
       "<div>\n",
       "<table border=\"1\" class=\"dataframe\">\n",
       "  <thead>\n",
       "    <tr style=\"text-align: right;\">\n",
       "      <th></th>\n",
       "      <th>comment</th>\n",
       "      <th>length</th>\n",
       "      <th>tb_polarity</th>\n",
       "      <th>tb_subjectivity</th>\n",
       "      <th>nltk_vader_compound</th>\n",
       "      <th>target</th>\n",
       "      <th>troll</th>\n",
       "    </tr>\n",
       "  </thead>\n",
       "  <tbody>\n",
       "    <tr>\n",
       "      <th>0</th>\n",
       "      <td>Transgenderism is a mental fucking disease ! N...</td>\n",
       "      <td>59</td>\n",
       "      <td>-0.425000</td>\n",
       "      <td>0.500000</td>\n",
       "      <td>0.0000</td>\n",
       "      <td>0</td>\n",
       "      <td>1</td>\n",
       "    </tr>\n",
       "    <tr>\n",
       "      <th>1</th>\n",
       "      <td>This is a wonderfully informative and hopeful ...</td>\n",
       "      <td>823</td>\n",
       "      <td>0.294444</td>\n",
       "      <td>0.536111</td>\n",
       "      <td>0.9882</td>\n",
       "      <td>1</td>\n",
       "      <td>1</td>\n",
       "    </tr>\n",
       "    <tr>\n",
       "      <th>2</th>\n",
       "      <td>As you are a Climate Change denier, I feel obl...</td>\n",
       "      <td>1210</td>\n",
       "      <td>-0.218056</td>\n",
       "      <td>0.416667</td>\n",
       "      <td>-0.2484</td>\n",
       "      <td>0</td>\n",
       "      <td>0</td>\n",
       "    </tr>\n",
       "    <tr>\n",
       "      <th>3</th>\n",
       "      <td>if this started migrating itself into a normal...</td>\n",
       "      <td>173</td>\n",
       "      <td>0.125000</td>\n",
       "      <td>0.550000</td>\n",
       "      <td>0.6523</td>\n",
       "      <td>0</td>\n",
       "      <td>0</td>\n",
       "    </tr>\n",
       "    <tr>\n",
       "      <th>4</th>\n",
       "      <td>We are applauding our own absence is a powerfu...</td>\n",
       "      <td>59</td>\n",
       "      <td>0.295833</td>\n",
       "      <td>0.666667</td>\n",
       "      <td>0.7096</td>\n",
       "      <td>0</td>\n",
       "      <td>0</td>\n",
       "    </tr>\n",
       "  </tbody>\n",
       "</table>\n",
       "</div>"
      ],
      "text/plain": [
       "                                             comment  length  tb_polarity  \\\n",
       "0  Transgenderism is a mental fucking disease ! N...      59    -0.425000   \n",
       "1  This is a wonderfully informative and hopeful ...     823     0.294444   \n",
       "2  As you are a Climate Change denier, I feel obl...    1210    -0.218056   \n",
       "3  if this started migrating itself into a normal...     173     0.125000   \n",
       "4  We are applauding our own absence is a powerfu...      59     0.295833   \n",
       "\n",
       "   tb_subjectivity  nltk_vader_compound  target  troll  \n",
       "0         0.500000               0.0000       0      1  \n",
       "1         0.536111               0.9882       1      1  \n",
       "2         0.416667              -0.2484       0      0  \n",
       "3         0.550000               0.6523       0      0  \n",
       "4         0.666667               0.7096       0      0  "
      ]
     },
     "execution_count": 132,
     "metadata": {},
     "output_type": "execute_result"
    }
   ],
   "source": [
    "print(comments_2.shape)\n",
    "comments_2.head()"
   ]
  },
  {
   "cell_type": "code",
   "execution_count": 133,
   "metadata": {
    "collapsed": false
   },
   "outputs": [
    {
     "data": {
      "text/plain": [
       "0     90583\n",
       "1      6949\n",
       "2      1587\n",
       "3       498\n",
       "4       181\n",
       "5        80\n",
       "6        51\n",
       "7        20\n",
       "8        14\n",
       "9         9\n",
       "11        9\n",
       "10        5\n",
       "12        5\n",
       "13        2\n",
       "15        2\n",
       "19        1\n",
       "14        1\n",
       "16        1\n",
       "18        1\n",
       "41        1\n",
       "Name: troll, dtype: int64"
      ]
     },
     "execution_count": 133,
     "metadata": {},
     "output_type": "execute_result"
    }
   ],
   "source": [
    "comments_2.troll.value_counts()"
   ]
  },
  {
   "cell_type": "code",
   "execution_count": 134,
   "metadata": {
    "collapsed": true
   },
   "outputs": [],
   "source": [
    "with open('all_simple_features.pkl','wb') as p:\n",
    "    pickle.dump(comments_2,p)"
   ]
  },
  {
   "cell_type": "markdown",
   "metadata": {},
   "source": [
    "### pick up pickle"
   ]
  },
  {
   "cell_type": "code",
   "execution_count": 135,
   "metadata": {
    "collapsed": true
   },
   "outputs": [],
   "source": [
    "with open('all_simple_features.pkl','rb') as p:\n",
    "    comments_2 = pickle.load(p)"
   ]
  },
  {
   "cell_type": "code",
   "execution_count": 136,
   "metadata": {
    "collapsed": false
   },
   "outputs": [],
   "source": [
    "# pronoun usage\n",
    "\n",
    "you_re = re.compile(\"[yY]ou\")\n",
    "they_re = re.compile(\"[tT]hem|[tT]hey\")\n",
    "I_re = re.compile(\"I\\s\")\n",
    "\n",
    "def get_first_person_per(ts):\n",
    "    '''Gets percentage of first person pronoun usage (I)'''\n",
    "    yous = len(re.findall(you_re, ts))\n",
    "    Is = len(re.findall(I_re, ts))\n",
    "    theys = len(re.findall(they_re, ts))\n",
    "    total = yous + Is + theys\n",
    "    if total == 0:\n",
    "        total = 1\n",
    "    return float(Is)/total\n",
    "\n",
    "def get_third_person_per(ts):\n",
    "    '''Gets percentage of first person pronoun usage (I)'''\n",
    "    yous = len(re.findall(you_re, ts))\n",
    "    Is = len(re.findall(I_re, ts))\n",
    "    theys = len(re.findall(they_re, ts))\n",
    "    total = yous + Is + theys\n",
    "    if total == 0:\n",
    "        total = 1\n",
    "    return float(theys)/total\n",
    "\n",
    "# df['first_per'] = df.transcripts.apply(get_first_person_per)\n",
    "# df['third_per'] = df.transcripts.apply(get_third_person_per)"
   ]
  },
  {
   "cell_type": "code",
   "execution_count": 137,
   "metadata": {
    "collapsed": true
   },
   "outputs": [],
   "source": [
    "# percent question marks, \n",
    "def get_punc_per(ts, mark='?'):\n",
    "    punc_re = re.compile(\"[\\.\\?\\!]\")\n",
    "    total_punc = float(len(re.findall(punc_re, ts)))\n",
    "    if total_punc == 0:\n",
    "        total_punc = 1\n",
    "    return ts.count(mark)/total_punc"
   ]
  },
  {
   "cell_type": "code",
   "execution_count": 138,
   "metadata": {
    "collapsed": false
   },
   "outputs": [],
   "source": [
    "comments_2['first_p'] = comments_2.comment.apply(get_first_person_per)\n",
    "comments_2['third_p'] = comments_2.comment.apply(get_third_person_per)\n",
    "comments_2['questions'] = comments_2.comment.apply(get_punc_per)"
   ]
  },
  {
   "cell_type": "code",
   "execution_count": 139,
   "metadata": {
    "collapsed": false
   },
   "outputs": [
    {
     "data": {
      "text/plain": [
       "(100000, 10)"
      ]
     },
     "execution_count": 139,
     "metadata": {},
     "output_type": "execute_result"
    }
   ],
   "source": [
    "comments_2.shape"
   ]
  },
  {
   "cell_type": "code",
   "execution_count": 140,
   "metadata": {
    "collapsed": false
   },
   "outputs": [
    {
     "data": {
      "text/html": [
       "<div>\n",
       "<table border=\"1\" class=\"dataframe\">\n",
       "  <thead>\n",
       "    <tr style=\"text-align: right;\">\n",
       "      <th></th>\n",
       "      <th>comment</th>\n",
       "      <th>length</th>\n",
       "      <th>tb_polarity</th>\n",
       "      <th>tb_subjectivity</th>\n",
       "      <th>nltk_vader_compound</th>\n",
       "      <th>target</th>\n",
       "      <th>troll</th>\n",
       "      <th>first_p</th>\n",
       "      <th>third_p</th>\n",
       "      <th>questions</th>\n",
       "    </tr>\n",
       "  </thead>\n",
       "  <tbody>\n",
       "    <tr>\n",
       "      <th>0</th>\n",
       "      <td>Transgenderism is a mental fucking disease ! N...</td>\n",
       "      <td>59</td>\n",
       "      <td>-0.425000</td>\n",
       "      <td>0.500000</td>\n",
       "      <td>0.0000</td>\n",
       "      <td>0</td>\n",
       "      <td>1</td>\n",
       "      <td>0.0</td>\n",
       "      <td>0.000000</td>\n",
       "      <td>0.0</td>\n",
       "    </tr>\n",
       "    <tr>\n",
       "      <th>1</th>\n",
       "      <td>This is a wonderfully informative and hopeful ...</td>\n",
       "      <td>823</td>\n",
       "      <td>0.294444</td>\n",
       "      <td>0.536111</td>\n",
       "      <td>0.9882</td>\n",
       "      <td>1</td>\n",
       "      <td>1</td>\n",
       "      <td>0.0</td>\n",
       "      <td>0.333333</td>\n",
       "      <td>0.0</td>\n",
       "    </tr>\n",
       "    <tr>\n",
       "      <th>2</th>\n",
       "      <td>As you are a Climate Change denier, I feel obl...</td>\n",
       "      <td>1210</td>\n",
       "      <td>-0.218056</td>\n",
       "      <td>0.416667</td>\n",
       "      <td>-0.2484</td>\n",
       "      <td>0</td>\n",
       "      <td>0</td>\n",
       "      <td>0.5</td>\n",
       "      <td>0.000000</td>\n",
       "      <td>0.0</td>\n",
       "    </tr>\n",
       "    <tr>\n",
       "      <th>3</th>\n",
       "      <td>if this started migrating itself into a normal...</td>\n",
       "      <td>173</td>\n",
       "      <td>0.125000</td>\n",
       "      <td>0.550000</td>\n",
       "      <td>0.6523</td>\n",
       "      <td>0</td>\n",
       "      <td>0</td>\n",
       "      <td>0.0</td>\n",
       "      <td>1.000000</td>\n",
       "      <td>0.0</td>\n",
       "    </tr>\n",
       "    <tr>\n",
       "      <th>4</th>\n",
       "      <td>We are applauding our own absence is a powerfu...</td>\n",
       "      <td>59</td>\n",
       "      <td>0.295833</td>\n",
       "      <td>0.666667</td>\n",
       "      <td>0.7096</td>\n",
       "      <td>0</td>\n",
       "      <td>0</td>\n",
       "      <td>0.0</td>\n",
       "      <td>0.000000</td>\n",
       "      <td>0.0</td>\n",
       "    </tr>\n",
       "  </tbody>\n",
       "</table>\n",
       "</div>"
      ],
      "text/plain": [
       "                                             comment  length  tb_polarity  \\\n",
       "0  Transgenderism is a mental fucking disease ! N...      59    -0.425000   \n",
       "1  This is a wonderfully informative and hopeful ...     823     0.294444   \n",
       "2  As you are a Climate Change denier, I feel obl...    1210    -0.218056   \n",
       "3  if this started migrating itself into a normal...     173     0.125000   \n",
       "4  We are applauding our own absence is a powerfu...      59     0.295833   \n",
       "\n",
       "   tb_subjectivity  nltk_vader_compound  target  troll  first_p   third_p  \\\n",
       "0         0.500000               0.0000       0      1      0.0  0.000000   \n",
       "1         0.536111               0.9882       1      1      0.0  0.333333   \n",
       "2         0.416667              -0.2484       0      0      0.5  0.000000   \n",
       "3         0.550000               0.6523       0      0      0.0  1.000000   \n",
       "4         0.666667               0.7096       0      0      0.0  0.000000   \n",
       "\n",
       "   questions  \n",
       "0        0.0  \n",
       "1        0.0  \n",
       "2        0.0  \n",
       "3        0.0  \n",
       "4        0.0  "
      ]
     },
     "execution_count": 140,
     "metadata": {},
     "output_type": "execute_result"
    }
   ],
   "source": [
    "comments_2.head()"
   ]
  },
  {
   "cell_type": "code",
   "execution_count": 143,
   "metadata": {
    "collapsed": true
   },
   "outputs": [],
   "source": [
    "with open('all_all_simple_features.pkl','wb') as p:\n",
    "    pickle.dump(comments_2,p)"
   ]
  },
  {
   "cell_type": "markdown",
   "metadata": {},
   "source": [
    "### pick up pickle"
   ]
  },
  {
   "cell_type": "code",
   "execution_count": 144,
   "metadata": {
    "collapsed": true
   },
   "outputs": [],
   "source": [
    "with open('all_all_simple_features.pkl','rb') as p:\n",
    "    comments_2 = pickle.load(p)"
   ]
  },
  {
   "cell_type": "code",
   "execution_count": null,
   "metadata": {
    "collapsed": true
   },
   "outputs": [],
   "source": []
  }
 ],
 "metadata": {
  "anaconda-cloud": {},
  "kernelspec": {
   "display_name": "Python 3",
   "language": "python",
   "name": "python3"
  },
  "language_info": {
   "codemirror_mode": {
    "name": "ipython",
    "version": 3
   },
   "file_extension": ".py",
   "mimetype": "text/x-python",
   "name": "python",
   "nbconvert_exporter": "python",
   "pygments_lexer": "ipython3",
   "version": "3.5.2"
  }
 },
 "nbformat": 4,
 "nbformat_minor": 1
}
