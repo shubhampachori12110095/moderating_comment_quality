{
 "cells": [
  {
   "cell_type": "markdown",
   "metadata": {},
   "source": [
    "### Imports"
   ]
  },
  {
   "cell_type": "code",
   "execution_count": 1,
   "metadata": {
    "collapsed": false
   },
   "outputs": [],
   "source": [
    "import pandas as pd\n",
    "import numpy as np\n",
    "\n",
    "import random\n",
    "import re\n",
    "from collections import Counter\n",
    "import time\n",
    "import pickle\n",
    "import operator\n",
    "\n",
    "from pymongo import MongoClient\n",
    "\n",
    "from sklearn.feature_extraction.text import TfidfVectorizer, CountVectorizer, TfidfTransformer\n",
    "from sklearn.feature_extraction.stop_words import ENGLISH_STOP_WORDS\n",
    "from sklearn.metrics.pairwise import cosine_similarity\n",
    "from sklearn.decomposition import NMF, LatentDirichletAllocation, TruncatedSVD\n",
    "from sklearn.preprocessing import Normalizer\n",
    "from textblob import TextBlob\n",
    "from nltk.corpus import stopwords\n",
    "import nltk\n",
    "\n",
    "from fuzzywuzzy import fuzz\n",
    "from fuzzywuzzy import process"
   ]
  },
  {
   "cell_type": "code",
   "execution_count": 76,
   "metadata": {
    "collapsed": false
   },
   "outputs": [],
   "source": [
    "# timing function\n",
    "def timefunc(f):\n",
    "    def f_timer(*args, **kwargs):\n",
    "        start = time.time()\n",
    "        result = f(*args, **kwargs)\n",
    "        end = time.time()\n",
    "        print(f.__name__, 'took', end - start, 'seconds')\n",
    "        return result\n",
    "    return f_timer"
   ]
  },
  {
   "cell_type": "markdown",
   "metadata": {},
   "source": [
    "### Get pickled sample data"
   ]
  },
  {
   "cell_type": "code",
   "execution_count": 77,
   "metadata": {
    "collapsed": true
   },
   "outputs": [],
   "source": [
    "with open('all_comments_w_trans.pkl','rb') as p:\n",
    "    df = pickle.load(p)"
   ]
  },
  {
   "cell_type": "code",
   "execution_count": 78,
   "metadata": {
    "collapsed": false
   },
   "outputs": [
    {
     "name": "stdout",
     "output_type": "stream",
     "text": [
      "(648979, 4)\n"
     ]
    },
    {
     "data": {
      "text/html": [
       "<div>\n",
       "<table border=\"1\" class=\"dataframe\">\n",
       "  <thead>\n",
       "    <tr style=\"text-align: right;\">\n",
       "      <th></th>\n",
       "      <th>comment</th>\n",
       "      <th>url</th>\n",
       "      <th>transcript</th>\n",
       "      <th>TED=1</th>\n",
       "    </tr>\n",
       "  </thead>\n",
       "  <tbody>\n",
       "    <tr>\n",
       "      <th>0</th>\n",
       "      <td>Transgenderism is a mental fucking disease ! N...</td>\n",
       "      <td>http://www.ted.com/talks/view/id/2602</td>\n",
       "      <td>(Music) (Applause) Trevor Copp: When \"Dancing ...</td>\n",
       "      <td>0</td>\n",
       "    </tr>\n",
       "    <tr>\n",
       "      <th>1</th>\n",
       "      <td>+Patternicity actually, technical you made the...</td>\n",
       "      <td>http://www.ted.com/talks/view/id/2602</td>\n",
       "      <td>(Music) (Applause) Trevor Copp: When \"Dancing ...</td>\n",
       "      <td>0</td>\n",
       "    </tr>\n",
       "    <tr>\n",
       "      <th>2</th>\n",
       "      <td>+Patternicity seriously, just do a bit of goog...</td>\n",
       "      <td>http://www.ted.com/talks/view/id/2602</td>\n",
       "      <td>(Music) (Applause) Trevor Copp: When \"Dancing ...</td>\n",
       "      <td>0</td>\n",
       "    </tr>\n",
       "    <tr>\n",
       "      <th>3</th>\n",
       "      <td>if this started migrating itself into a normal...</td>\n",
       "      <td>http://www.ted.com/talks/view/id/2602</td>\n",
       "      <td>(Music) (Applause) Trevor Copp: When \"Dancing ...</td>\n",
       "      <td>0</td>\n",
       "    </tr>\n",
       "    <tr>\n",
       "      <th>4</th>\n",
       "      <td>We are applauding our own absence is a powerfu...</td>\n",
       "      <td>http://www.ted.com/talks/view/id/2602</td>\n",
       "      <td>(Music) (Applause) Trevor Copp: When \"Dancing ...</td>\n",
       "      <td>0</td>\n",
       "    </tr>\n",
       "  </tbody>\n",
       "</table>\n",
       "</div>"
      ],
      "text/plain": [
       "                                             comment  \\\n",
       "0  Transgenderism is a mental fucking disease ! N...   \n",
       "1  +Patternicity actually, technical you made the...   \n",
       "2  +Patternicity seriously, just do a bit of goog...   \n",
       "3  if this started migrating itself into a normal...   \n",
       "4  We are applauding our own absence is a powerfu...   \n",
       "\n",
       "                                     url  \\\n",
       "0  http://www.ted.com/talks/view/id/2602   \n",
       "1  http://www.ted.com/talks/view/id/2602   \n",
       "2  http://www.ted.com/talks/view/id/2602   \n",
       "3  http://www.ted.com/talks/view/id/2602   \n",
       "4  http://www.ted.com/talks/view/id/2602   \n",
       "\n",
       "                                          transcript  TED=1  \n",
       "0  (Music) (Applause) Trevor Copp: When \"Dancing ...      0  \n",
       "1  (Music) (Applause) Trevor Copp: When \"Dancing ...      0  \n",
       "2  (Music) (Applause) Trevor Copp: When \"Dancing ...      0  \n",
       "3  (Music) (Applause) Trevor Copp: When \"Dancing ...      0  \n",
       "4  (Music) (Applause) Trevor Copp: When \"Dancing ...      0  "
      ]
     },
     "execution_count": 78,
     "metadata": {},
     "output_type": "execute_result"
    }
   ],
   "source": [
    "print(df.shape)\n",
    "df.head()"
   ]
  },
  {
   "cell_type": "code",
   "execution_count": 79,
   "metadata": {
    "collapsed": false
   },
   "outputs": [],
   "source": [
    "df['com_tran_list'] = df[['comment','transcript']].values.tolist()"
   ]
  },
  {
   "cell_type": "code",
   "execution_count": 80,
   "metadata": {
    "collapsed": false
   },
   "outputs": [
    {
     "data": {
      "text/html": [
       "<div>\n",
       "<table border=\"1\" class=\"dataframe\">\n",
       "  <thead>\n",
       "    <tr style=\"text-align: right;\">\n",
       "      <th></th>\n",
       "      <th>comment</th>\n",
       "      <th>transcript</th>\n",
       "      <th>com_tran_list</th>\n",
       "      <th>TED=1</th>\n",
       "    </tr>\n",
       "  </thead>\n",
       "  <tbody>\n",
       "    <tr>\n",
       "      <th>0</th>\n",
       "      <td>Transgenderism is a mental fucking disease ! N...</td>\n",
       "      <td>(Music) (Applause) Trevor Copp: When \"Dancing ...</td>\n",
       "      <td>[Transgenderism is a mental fucking disease ! ...</td>\n",
       "      <td>0</td>\n",
       "    </tr>\n",
       "    <tr>\n",
       "      <th>1</th>\n",
       "      <td>+Patternicity actually, technical you made the...</td>\n",
       "      <td>(Music) (Applause) Trevor Copp: When \"Dancing ...</td>\n",
       "      <td>[+Patternicity actually, technical you made th...</td>\n",
       "      <td>0</td>\n",
       "    </tr>\n",
       "    <tr>\n",
       "      <th>2</th>\n",
       "      <td>+Patternicity seriously, just do a bit of goog...</td>\n",
       "      <td>(Music) (Applause) Trevor Copp: When \"Dancing ...</td>\n",
       "      <td>[+Patternicity seriously, just do a bit of goo...</td>\n",
       "      <td>0</td>\n",
       "    </tr>\n",
       "    <tr>\n",
       "      <th>3</th>\n",
       "      <td>if this started migrating itself into a normal...</td>\n",
       "      <td>(Music) (Applause) Trevor Copp: When \"Dancing ...</td>\n",
       "      <td>[if this started migrating itself into a norma...</td>\n",
       "      <td>0</td>\n",
       "    </tr>\n",
       "    <tr>\n",
       "      <th>4</th>\n",
       "      <td>We are applauding our own absence is a powerfu...</td>\n",
       "      <td>(Music) (Applause) Trevor Copp: When \"Dancing ...</td>\n",
       "      <td>[We are applauding our own absence is a powerf...</td>\n",
       "      <td>0</td>\n",
       "    </tr>\n",
       "  </tbody>\n",
       "</table>\n",
       "</div>"
      ],
      "text/plain": [
       "                                             comment  \\\n",
       "0  Transgenderism is a mental fucking disease ! N...   \n",
       "1  +Patternicity actually, technical you made the...   \n",
       "2  +Patternicity seriously, just do a bit of goog...   \n",
       "3  if this started migrating itself into a normal...   \n",
       "4  We are applauding our own absence is a powerfu...   \n",
       "\n",
       "                                          transcript  \\\n",
       "0  (Music) (Applause) Trevor Copp: When \"Dancing ...   \n",
       "1  (Music) (Applause) Trevor Copp: When \"Dancing ...   \n",
       "2  (Music) (Applause) Trevor Copp: When \"Dancing ...   \n",
       "3  (Music) (Applause) Trevor Copp: When \"Dancing ...   \n",
       "4  (Music) (Applause) Trevor Copp: When \"Dancing ...   \n",
       "\n",
       "                                       com_tran_list  TED=1  \n",
       "0  [Transgenderism is a mental fucking disease ! ...      0  \n",
       "1  [+Patternicity actually, technical you made th...      0  \n",
       "2  [+Patternicity seriously, just do a bit of goo...      0  \n",
       "3  [if this started migrating itself into a norma...      0  \n",
       "4  [We are applauding our own absence is a powerf...      0  "
      ]
     },
     "execution_count": 80,
     "metadata": {},
     "output_type": "execute_result"
    }
   ],
   "source": [
    "all_com_trans = df[['comment','transcript','com_tran_list','TED=1']]\n",
    "all_com_trans.head()"
   ]
  },
  {
   "cell_type": "code",
   "execution_count": 81,
   "metadata": {
    "collapsed": false
   },
   "outputs": [
    {
     "data": {
      "text/plain": [
       "100000"
      ]
     },
     "execution_count": 81,
     "metadata": {},
     "output_type": "execute_result"
    }
   ],
   "source": [
    "com_trans_only = pd.DataFrame.sample(all_com_trans,n=100000,random_state=27)\n",
    "len(com_trans_only)"
   ]
  },
  {
   "cell_type": "code",
   "execution_count": 82,
   "metadata": {
    "collapsed": false
   },
   "outputs": [
    {
     "data": {
      "text/plain": [
       "0.60295"
      ]
     },
     "execution_count": 82,
     "metadata": {},
     "output_type": "execute_result"
    }
   ],
   "source": [
    "len(com_trans_only[com_trans_only['TED=1'] == 1])/len(com_trans_only)"
   ]
  },
  {
   "cell_type": "code",
   "execution_count": 83,
   "metadata": {
    "collapsed": false
   },
   "outputs": [],
   "source": [
    "com_trans = com_trans_only.copy()"
   ]
  },
  {
   "cell_type": "code",
   "execution_count": 84,
   "metadata": {
    "collapsed": false
   },
   "outputs": [],
   "source": [
    "com_trans = com_trans.sort_index().reset_index(drop=True)"
   ]
  },
  {
   "cell_type": "code",
   "execution_count": 85,
   "metadata": {
    "collapsed": false
   },
   "outputs": [
    {
     "data": {
      "text/html": [
       "<div>\n",
       "<table border=\"1\" class=\"dataframe\">\n",
       "  <thead>\n",
       "    <tr style=\"text-align: right;\">\n",
       "      <th></th>\n",
       "      <th>comment</th>\n",
       "      <th>transcript</th>\n",
       "      <th>com_tran_list</th>\n",
       "      <th>TED=1</th>\n",
       "    </tr>\n",
       "  </thead>\n",
       "  <tbody>\n",
       "    <tr>\n",
       "      <th>0</th>\n",
       "      <td>Transgenderism is a mental fucking disease ! N...</td>\n",
       "      <td>(Music) (Applause) Trevor Copp: When \"Dancing ...</td>\n",
       "      <td>[Transgenderism is a mental fucking disease ! ...</td>\n",
       "      <td>0</td>\n",
       "    </tr>\n",
       "    <tr>\n",
       "      <th>1</th>\n",
       "      <td>This is a wonderfully informative and hopeful ...</td>\n",
       "      <td>Thank you so much, Chris. And it's truly a gre...</td>\n",
       "      <td>[This is a wonderfully informative and hopeful...</td>\n",
       "      <td>1</td>\n",
       "    </tr>\n",
       "    <tr>\n",
       "      <th>2</th>\n",
       "      <td>As you are a Climate Change denier, I feel obl...</td>\n",
       "      <td>Thank you so much, Chris. And it's truly a gre...</td>\n",
       "      <td>[As you are a Climate Change denier, I feel ob...</td>\n",
       "      <td>1</td>\n",
       "    </tr>\n",
       "    <tr>\n",
       "      <th>3</th>\n",
       "      <td>if this started migrating itself into a normal...</td>\n",
       "      <td>(Music) (Applause) Trevor Copp: When \"Dancing ...</td>\n",
       "      <td>[if this started migrating itself into a norma...</td>\n",
       "      <td>0</td>\n",
       "    </tr>\n",
       "    <tr>\n",
       "      <th>4</th>\n",
       "      <td>We are applauding our own absence is a powerfu...</td>\n",
       "      <td>(Music) (Applause) Trevor Copp: When \"Dancing ...</td>\n",
       "      <td>[We are applauding our own absence is a powerf...</td>\n",
       "      <td>0</td>\n",
       "    </tr>\n",
       "  </tbody>\n",
       "</table>\n",
       "</div>"
      ],
      "text/plain": [
       "                                             comment  \\\n",
       "0  Transgenderism is a mental fucking disease ! N...   \n",
       "1  This is a wonderfully informative and hopeful ...   \n",
       "2  As you are a Climate Change denier, I feel obl...   \n",
       "3  if this started migrating itself into a normal...   \n",
       "4  We are applauding our own absence is a powerfu...   \n",
       "\n",
       "                                          transcript  \\\n",
       "0  (Music) (Applause) Trevor Copp: When \"Dancing ...   \n",
       "1  Thank you so much, Chris. And it's truly a gre...   \n",
       "2  Thank you so much, Chris. And it's truly a gre...   \n",
       "3  (Music) (Applause) Trevor Copp: When \"Dancing ...   \n",
       "4  (Music) (Applause) Trevor Copp: When \"Dancing ...   \n",
       "\n",
       "                                       com_tran_list  TED=1  \n",
       "0  [Transgenderism is a mental fucking disease ! ...      0  \n",
       "1  [This is a wonderfully informative and hopeful...      1  \n",
       "2  [As you are a Climate Change denier, I feel ob...      1  \n",
       "3  [if this started migrating itself into a norma...      0  \n",
       "4  [We are applauding our own absence is a powerf...      0  "
      ]
     },
     "execution_count": 85,
     "metadata": {},
     "output_type": "execute_result"
    }
   ],
   "source": [
    "com_trans.head()"
   ]
  },
  {
   "cell_type": "code",
   "execution_count": 86,
   "metadata": {
    "collapsed": true
   },
   "outputs": [],
   "source": [
    "with open('master.pkl','wb') as p:\n",
    "    pickle.dump(com_trans,p)"
   ]
  },
  {
   "cell_type": "markdown",
   "metadata": {},
   "source": [
    "### pick up pickle"
   ]
  },
  {
   "cell_type": "code",
   "execution_count": 87,
   "metadata": {
    "collapsed": true
   },
   "outputs": [],
   "source": [
    "with open('master.pkl','rb') as p:\n",
    "    com_trans = pickle.load(p)"
   ]
  },
  {
   "cell_type": "markdown",
   "metadata": {},
   "source": [
    "### Cosine similarity"
   ]
  },
  {
   "cell_type": "code",
   "execution_count": 88,
   "metadata": {
    "collapsed": false
   },
   "outputs": [],
   "source": [
    "tv = TfidfVectorizer(strip_accents='ascii',\n",
    "                     analyzer='word',\n",
    "                     stop_words='english')"
   ]
  },
  {
   "cell_type": "code",
   "execution_count": 89,
   "metadata": {
    "collapsed": true
   },
   "outputs": [],
   "source": [
    "def dist_cos_sim(sample):\n",
    "    ts_vec = tv.fit_transform(sample)\n",
    "    dist = cosine_similarity(ts_vec)\n",
    "    sim_score = dist[0][1]\n",
    "    return sim_score"
   ]
  },
  {
   "cell_type": "code",
   "execution_count": 90,
   "metadata": {
    "collapsed": false
   },
   "outputs": [],
   "source": [
    "x = com_trans.com_tran_list.tolist()\n",
    "arr = []\n",
    "\n",
    "for i in x:\n",
    "    try:\n",
    "        val = dist_cos_sim(i)\n",
    "    except:\n",
    "        val = 0\n",
    "    arr.append(val)"
   ]
  },
  {
   "cell_type": "code",
   "execution_count": 91,
   "metadata": {
    "collapsed": false
   },
   "outputs": [
    {
     "name": "stdout",
     "output_type": "stream",
     "text": [
      "100000\n"
     ]
    }
   ],
   "source": [
    "print(len(arr))\n",
    "x = np.asarray(arr)"
   ]
  },
  {
   "cell_type": "code",
   "execution_count": 92,
   "metadata": {
    "collapsed": false
   },
   "outputs": [],
   "source": [
    "com_trans['cosine_sim'] = x"
   ]
  },
  {
   "cell_type": "code",
   "execution_count": 93,
   "metadata": {
    "collapsed": false
   },
   "outputs": [
    {
     "data": {
      "text/html": [
       "<div>\n",
       "<table border=\"1\" class=\"dataframe\">\n",
       "  <thead>\n",
       "    <tr style=\"text-align: right;\">\n",
       "      <th></th>\n",
       "      <th>comment</th>\n",
       "      <th>transcript</th>\n",
       "      <th>com_tran_list</th>\n",
       "      <th>TED=1</th>\n",
       "      <th>cosine_sim</th>\n",
       "    </tr>\n",
       "  </thead>\n",
       "  <tbody>\n",
       "    <tr>\n",
       "      <th>0</th>\n",
       "      <td>Transgenderism is a mental fucking disease ! N...</td>\n",
       "      <td>(Music) (Applause) Trevor Copp: When \"Dancing ...</td>\n",
       "      <td>[Transgenderism is a mental fucking disease ! ...</td>\n",
       "      <td>0</td>\n",
       "      <td>0.000000</td>\n",
       "    </tr>\n",
       "    <tr>\n",
       "      <th>1</th>\n",
       "      <td>This is a wonderfully informative and hopeful ...</td>\n",
       "      <td>Thank you so much, Chris. And it's truly a gre...</td>\n",
       "      <td>[This is a wonderfully informative and hopeful...</td>\n",
       "      <td>1</td>\n",
       "      <td>0.084987</td>\n",
       "    </tr>\n",
       "    <tr>\n",
       "      <th>2</th>\n",
       "      <td>As you are a Climate Change denier, I feel obl...</td>\n",
       "      <td>Thank you so much, Chris. And it's truly a gre...</td>\n",
       "      <td>[As you are a Climate Change denier, I feel ob...</td>\n",
       "      <td>1</td>\n",
       "      <td>0.061111</td>\n",
       "    </tr>\n",
       "    <tr>\n",
       "      <th>3</th>\n",
       "      <td>if this started migrating itself into a normal...</td>\n",
       "      <td>(Music) (Applause) Trevor Copp: When \"Dancing ...</td>\n",
       "      <td>[if this started migrating itself into a norma...</td>\n",
       "      <td>0</td>\n",
       "      <td>0.023335</td>\n",
       "    </tr>\n",
       "    <tr>\n",
       "      <th>4</th>\n",
       "      <td>We are applauding our own absence is a powerfu...</td>\n",
       "      <td>(Music) (Applause) Trevor Copp: When \"Dancing ...</td>\n",
       "      <td>[We are applauding our own absence is a powerf...</td>\n",
       "      <td>0</td>\n",
       "      <td>0.011142</td>\n",
       "    </tr>\n",
       "  </tbody>\n",
       "</table>\n",
       "</div>"
      ],
      "text/plain": [
       "                                             comment  \\\n",
       "0  Transgenderism is a mental fucking disease ! N...   \n",
       "1  This is a wonderfully informative and hopeful ...   \n",
       "2  As you are a Climate Change denier, I feel obl...   \n",
       "3  if this started migrating itself into a normal...   \n",
       "4  We are applauding our own absence is a powerfu...   \n",
       "\n",
       "                                          transcript  \\\n",
       "0  (Music) (Applause) Trevor Copp: When \"Dancing ...   \n",
       "1  Thank you so much, Chris. And it's truly a gre...   \n",
       "2  Thank you so much, Chris. And it's truly a gre...   \n",
       "3  (Music) (Applause) Trevor Copp: When \"Dancing ...   \n",
       "4  (Music) (Applause) Trevor Copp: When \"Dancing ...   \n",
       "\n",
       "                                       com_tran_list  TED=1  cosine_sim  \n",
       "0  [Transgenderism is a mental fucking disease ! ...      0    0.000000  \n",
       "1  [This is a wonderfully informative and hopeful...      1    0.084987  \n",
       "2  [As you are a Climate Change denier, I feel ob...      1    0.061111  \n",
       "3  [if this started migrating itself into a norma...      0    0.023335  \n",
       "4  [We are applauding our own absence is a powerf...      0    0.011142  "
      ]
     },
     "execution_count": 93,
     "metadata": {},
     "output_type": "execute_result"
    }
   ],
   "source": [
    "com_trans.head()"
   ]
  },
  {
   "cell_type": "code",
   "execution_count": null,
   "metadata": {
    "collapsed": false
   },
   "outputs": [],
   "source": []
  },
  {
   "cell_type": "code",
   "execution_count": 94,
   "metadata": {
    "collapsed": true
   },
   "outputs": [],
   "source": [
    "com_trans_csim = com_trans.drop(['transcript','com_tran_list'],axis=1)"
   ]
  },
  {
   "cell_type": "code",
   "execution_count": 95,
   "metadata": {
    "collapsed": false
   },
   "outputs": [
    {
     "data": {
      "text/html": [
       "<div>\n",
       "<table border=\"1\" class=\"dataframe\">\n",
       "  <thead>\n",
       "    <tr style=\"text-align: right;\">\n",
       "      <th></th>\n",
       "      <th>comment</th>\n",
       "      <th>TED=1</th>\n",
       "      <th>cosine_sim</th>\n",
       "    </tr>\n",
       "  </thead>\n",
       "  <tbody>\n",
       "    <tr>\n",
       "      <th>0</th>\n",
       "      <td>Transgenderism is a mental fucking disease ! N...</td>\n",
       "      <td>0</td>\n",
       "      <td>0.000000</td>\n",
       "    </tr>\n",
       "    <tr>\n",
       "      <th>1</th>\n",
       "      <td>This is a wonderfully informative and hopeful ...</td>\n",
       "      <td>1</td>\n",
       "      <td>0.084987</td>\n",
       "    </tr>\n",
       "    <tr>\n",
       "      <th>2</th>\n",
       "      <td>As you are a Climate Change denier, I feel obl...</td>\n",
       "      <td>1</td>\n",
       "      <td>0.061111</td>\n",
       "    </tr>\n",
       "    <tr>\n",
       "      <th>3</th>\n",
       "      <td>if this started migrating itself into a normal...</td>\n",
       "      <td>0</td>\n",
       "      <td>0.023335</td>\n",
       "    </tr>\n",
       "    <tr>\n",
       "      <th>4</th>\n",
       "      <td>We are applauding our own absence is a powerfu...</td>\n",
       "      <td>0</td>\n",
       "      <td>0.011142</td>\n",
       "    </tr>\n",
       "  </tbody>\n",
       "</table>\n",
       "</div>"
      ],
      "text/plain": [
       "                                             comment  TED=1  cosine_sim\n",
       "0  Transgenderism is a mental fucking disease ! N...      0    0.000000\n",
       "1  This is a wonderfully informative and hopeful ...      1    0.084987\n",
       "2  As you are a Climate Change denier, I feel obl...      1    0.061111\n",
       "3  if this started migrating itself into a normal...      0    0.023335\n",
       "4  We are applauding our own absence is a powerfu...      0    0.011142"
      ]
     },
     "execution_count": 95,
     "metadata": {},
     "output_type": "execute_result"
    }
   ],
   "source": [
    "com_trans_csim.head()"
   ]
  },
  {
   "cell_type": "code",
   "execution_count": 96,
   "metadata": {
    "collapsed": true
   },
   "outputs": [],
   "source": [
    "with open('cosine_dist_only.pkl','wb') as picklefile:\n",
    "    pickle.dump(com_trans_csim, picklefile)"
   ]
  },
  {
   "cell_type": "code",
   "execution_count": 97,
   "metadata": {
    "collapsed": true
   },
   "outputs": [],
   "source": [
    "with open('cosine_dist_only.pkl','rb') as picklefile:\n",
    "    com_trans_csim = pickle.load(picklefile)"
   ]
  },
  {
   "cell_type": "code",
   "execution_count": null,
   "metadata": {
    "collapsed": true
   },
   "outputs": [],
   "source": []
  },
  {
   "cell_type": "markdown",
   "metadata": {},
   "source": [
    "### Distance with Levinshtein"
   ]
  },
  {
   "cell_type": "code",
   "execution_count": 98,
   "metadata": {
    "collapsed": true
   },
   "outputs": [],
   "source": [
    "def dist_lev_token_set(comment,trans):\n",
    "    score = fuzz.token_set_ratio(comment,trans)\n",
    "    return score"
   ]
  },
  {
   "cell_type": "code",
   "execution_count": 99,
   "metadata": {
    "collapsed": false
   },
   "outputs": [],
   "source": [
    "comments_ser = com_trans.comment\n",
    "trans_ser = com_trans.transcript"
   ]
  },
  {
   "cell_type": "code",
   "execution_count": 100,
   "metadata": {
    "collapsed": false
   },
   "outputs": [],
   "source": [
    "out = []\n",
    "for i,j in zip(comments_ser,trans_ser):\n",
    "    out.append(dist_lev_token_set(i,j))"
   ]
  },
  {
   "cell_type": "code",
   "execution_count": 101,
   "metadata": {
    "collapsed": false
   },
   "outputs": [
    {
     "data": {
      "text/plain": [
       "list"
      ]
     },
     "execution_count": 101,
     "metadata": {},
     "output_type": "execute_result"
    }
   ],
   "source": [
    "type(out)"
   ]
  },
  {
   "cell_type": "code",
   "execution_count": 102,
   "metadata": {
    "collapsed": true
   },
   "outputs": [],
   "source": [
    "com_trans_csim['lev_distance'] = np.asarray(out)"
   ]
  },
  {
   "cell_type": "code",
   "execution_count": 103,
   "metadata": {
    "collapsed": false
   },
   "outputs": [
    {
     "data": {
      "text/plain": [
       "100000"
      ]
     },
     "execution_count": 103,
     "metadata": {},
     "output_type": "execute_result"
    }
   ],
   "source": [
    "com_trans_csim_final = com_trans_csim\n",
    "len(com_trans_csim_final)"
   ]
  },
  {
   "cell_type": "code",
   "execution_count": 4,
   "metadata": {
    "collapsed": false
   },
   "outputs": [],
   "source": [
    "with open('cosine_lev.pkl','wb') as picklefile:\n",
    "    pickle.dump(com_trans_csim_final, picklefile)"
   ]
  },
  {
   "cell_type": "code",
   "execution_count": null,
   "metadata": {
    "collapsed": false
   },
   "outputs": [],
   "source": []
  },
  {
   "cell_type": "code",
   "execution_count": 9,
   "metadata": {
    "collapsed": true
   },
   "outputs": [],
   "source": [
    "with open('features.pkl','rb') as picklefile:\n",
    "    features = pickle.load(picklefile)"
   ]
  },
  {
   "cell_type": "code",
   "execution_count": 11,
   "metadata": {
    "collapsed": false
   },
   "outputs": [],
   "source": [
    "with open('target.pkl','rb') as picklefile:\n",
    "    target = pickle.load(picklefile)"
   ]
  },
  {
   "cell_type": "code",
   "execution_count": 12,
   "metadata": {
    "collapsed": true
   },
   "outputs": [],
   "source": [
    "features['target'] = target"
   ]
  },
  {
   "cell_type": "code",
   "execution_count": 14,
   "metadata": {
    "collapsed": false
   },
   "outputs": [],
   "source": [
    "df = features[['lev_distance','target']]"
   ]
  },
  {
   "cell_type": "code",
   "execution_count": 16,
   "metadata": {
    "collapsed": false
   },
   "outputs": [],
   "source": [
    "TED = df[df['target'] == 1]\n",
    "YT = df[df['target'] == 0]"
   ]
  },
  {
   "cell_type": "code",
   "execution_count": 17,
   "metadata": {
    "collapsed": true
   },
   "outputs": [],
   "source": [
    "x = TED.lev_distance\n",
    "y = YT.lev_distance"
   ]
  },
  {
   "cell_type": "code",
   "execution_count": 35,
   "metadata": {
    "collapsed": false
   },
   "outputs": [
    {
     "name": "stderr",
     "output_type": "stream",
     "text": [
      "/Users/THoshino/anaconda/envs/py35/lib/python3.5/site-packages/statsmodels/nonparametric/kdetools.py:20: VisibleDeprecationWarning: using a non-integer number instead of an integer will result in an error in the future\n",
      "  y = X[:m/2+1] + np.r_[0,X[m/2+1:],0]*1j\n"
     ]
    },
    {
     "data": {
      "image/png": "[encoded data removed]",
      "text/plain": [
       "<matplotlib.figure.Figure at 0x118505b38>"
      ]
     },
     "metadata": {},
     "output_type": "display_data"
    }
   ],
   "source": [
    "import matplotlib.pyplot as plt\n",
    "import seaborn as sns\n",
    "%matplotlib inline\n",
    "\n",
    "# fig, ax = plt.subplots()\n",
    "sns.set_style(\"whitegrid\")\n",
    "sns.distplot(x,label='TED')\n",
    "sns.distplot(y,label='YT')\n",
    "plt.ylim(0,100);"
   ]
  },
  {
   "cell_type": "code",
   "execution_count": null,
   "metadata": {
    "collapsed": true
   },
   "outputs": [],
   "source": []
  }
 ],
 "metadata": {
  "anaconda-cloud": {},
  "kernelspec": {
   "display_name": "Python 3",
   "language": "python",
   "name": "python3"
  },
  "language_info": {
   "codemirror_mode": {
    "name": "ipython",
    "version": 3
   },
   "file_extension": ".py",
   "mimetype": "text/x-python",
   "name": "python",
   "nbconvert_exporter": "python",
   "pygments_lexer": "ipython3",
   "version": "3.5.2"
  }
 },
 "nbformat": 4,
 "nbformat_minor": 1
}
