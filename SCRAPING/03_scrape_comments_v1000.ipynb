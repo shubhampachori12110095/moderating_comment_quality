{
 "cells": [
  {
   "cell_type": "code",
   "execution_count": null,
   "metadata": {
    "collapsed": false
   },
   "outputs": [],
   "source": [
    "!ls"
   ]
  },
  {
   "cell_type": "code",
   "execution_count": null,
   "metadata": {
    "collapsed": true
   },
   "outputs": [],
   "source": [
    "import pandas as pd\n",
    "import numpy as np\n",
    "\n",
    "import pickle\n",
    "\n",
    "from bs4 import BeautifulSoup\n",
    "import requests\n",
    "import time\n",
    "import re\n",
    "import string"
   ]
  },
  {
   "cell_type": "code",
   "execution_count": null,
   "metadata": {
    "collapsed": true
   },
   "outputs": [],
   "source": [
    "df = pd.read_csv(\"TED Talks as of 10.17.2016 - TEDTalks by date.csv\")"
   ]
  },
  {
   "cell_type": "code",
   "execution_count": null,
   "metadata": {
    "collapsed": false
   },
   "outputs": [],
   "source": [
    "url_list = [i for i in df['URL.1']]\n",
    "url_list"
   ]
  },
  {
   "cell_type": "markdown",
   "metadata": {},
   "source": [
    "## Scrape comments"
   ]
  },
  {
   "cell_type": "code",
   "execution_count": null,
   "metadata": {
    "collapsed": false
   },
   "outputs": [],
   "source": [
    "import selenium\n",
    "from selenium import webdriver\n",
    "from selenium.webdriver.common.keys import Keys\n",
    "from selenium.webdriver.support.wait import WebDriverWait\n",
    "from selenium.webdriver.common.keys import Keys\n",
    "\n",
    "import time\n",
    "import os"
   ]
  },
  {
   "cell_type": "code",
   "execution_count": null,
   "metadata": {
    "collapsed": false
   },
   "outputs": [],
   "source": [
    "def get_comments(url):\n",
    "    try:\n",
    "        chromedriver = \"/Users/THoshino/anaconda/bin/chromedriver\"\n",
    "        os.environ[\"webdriver.chrome.driver\"] = chromedriver\n",
    "        driver = webdriver.Chrome(chromedriver)\n",
    "        driver.get(url)\n",
    "        time.sleep(3)\n",
    "        driver.execute_script(\"window.scrollTo(0,40000000000);\")\n",
    "        time.sleep(1)\n",
    "\n",
    "        counter = 0\n",
    "        while True:\n",
    "            try:\n",
    "                button = driver.find_element_by_xpath('//*[@id=\"thread\"]/div[5]/a')\n",
    "                button.click()\n",
    "                time.sleep(2)\n",
    "                counter += 1\n",
    "                print(\"Extensions: \", counter)\n",
    "            except:\n",
    "                if \"ElementNotVisibleException\":\n",
    "                    break\n",
    "    \n",
    "    except:\n",
    "        return None\n",
    "        driver.close()\n",
    "        print(\"ERROR - driver closed\")\n",
    "    else:\n",
    "        \n",
    "        comments = []\n",
    "        \n",
    "        coms = BeautifulSoup(driver.page_source,'lxml').find_all(\"div\",class_=\"comment__body hyphens\")\n",
    "        com_section = BeautifulSoup(driver.page_source,'lxml').find_all(\"div\",class_=\"thread__comments\")\n",
    "        comment_count = len(coms)\n",
    "        \n",
    "        for i in range(0, comment_count):\n",
    "            comment = coms[i].get_text()\n",
    "            comment = \" \".join(comment.split())\n",
    "\n",
    "            user_name = com_section[0].find_all('a',class_=\"comment__name\")[i].get_text()\n",
    "\n",
    "            posted = com_section[0].find_all(\"div\",class_=\"comment__date\")[i].get_text()\n",
    "            posted = posted.replace('\\n',\"\").replace('Posted',\"\").strip()\n",
    "            \n",
    "            content = {\"url\": url,\n",
    "                       \"comment_index\": i,\n",
    "                       \"comment_count\": comment_count,\n",
    "                       \"user_name\": user_name,\n",
    "                       \"posted\": posted,\n",
    "                       \"comment\": comment}\n",
    "            \n",
    "            comments.append(content)\n",
    "        \n",
    "        driver.close()\n",
    "        \n",
    "        print(\"SUCCESS - driver closed\")\n",
    "    \n",
    "    return comments"
   ]
  },
  {
   "cell_type": "code",
   "execution_count": null,
   "metadata": {
    "collapsed": false
   },
   "outputs": [],
   "source": [
    "url_list_500 = url_list[:500]\n",
    "url_list_1000 = url_list[500:1000]\n",
    "url_list_1500 = url_list[1000:1500]\n",
    "url_list_2000 = url_list[1500:2000]\n",
    "url_list_2500 = url_list[2000:]"
   ]
  },
  {
   "cell_type": "code",
   "execution_count": null,
   "metadata": {
    "collapsed": true
   },
   "outputs": [],
   "source": [
    "def iterate_urls_500(url_list_500):\n",
    "    c_list = []\n",
    "    for count, url in enumerate(url_list_500):\n",
    "        time.sleep(0.05)\n",
    "        comments = get_comments(url)\n",
    "        if comments: \n",
    "            c_list.append(comments)\n",
    "            with open(\"TEDcomments500_v2.pkl\", \"wb\") as picklefile:\n",
    "                pickle.dump(c_list, picklefile)\n",
    "            print(count)\n",
    "        else:\n",
    "            print('No comments')\n",
    "            continue\n",
    "        if count % 50 == 0:\n",
    "            time.sleep(1)\n",
    "            print('Processing Next 50')\n",
    "    \n",
    "    return c_list"
   ]
  },
  {
   "cell_type": "code",
   "execution_count": null,
   "metadata": {
    "collapsed": true
   },
   "outputs": [],
   "source": [
    "def iterate_urls_1000(url_list_1000):\n",
    "    c_list = []\n",
    "    for count, url in enumerate(url_list_1000):\n",
    "        time.sleep(0.05)\n",
    "        comments = get_comments(url)\n",
    "        if comments: \n",
    "            c_list.append(comments)\n",
    "            with open(\"TEDcomments1000_v2.pkl\", \"wb\") as picklefile:\n",
    "                pickle.dump(c_list, picklefile)\n",
    "            print(count)\n",
    "        else:\n",
    "            print('No comments')\n",
    "            continue\n",
    "        if count % 50 == 0:\n",
    "            time.sleep(1)\n",
    "            print('Processing Next 50')\n",
    "    \n",
    "    return c_list"
   ]
  },
  {
   "cell_type": "code",
   "execution_count": null,
   "metadata": {
    "collapsed": true
   },
   "outputs": [],
   "source": [
    "def iterate_urls_1500(url_list_1500):\n",
    "    c_list = []\n",
    "    for count, url in enumerate(url_list_1500):\n",
    "        time.sleep(0.05)\n",
    "        comments = get_comments(url)\n",
    "        if comments: \n",
    "            c_list.append(comments)\n",
    "            with open(\"TEDcomments1500_v2.pkl\", \"wb\") as picklefile:\n",
    "                pickle.dump(c_list, picklefile)\n",
    "            print(count)\n",
    "        else:\n",
    "            print('No comments')\n",
    "            continue\n",
    "        if count % 50 == 0:\n",
    "            time.sleep(1)\n",
    "            print('Processing Next 50')\n",
    "    \n",
    "    return c_list"
   ]
  },
  {
   "cell_type": "code",
   "execution_count": null,
   "metadata": {
    "collapsed": true
   },
   "outputs": [],
   "source": [
    "def iterate_urls_2000(url_list_2000):\n",
    "    c_list = []\n",
    "    for count, url in enumerate(url_list_2000):\n",
    "        time.sleep(0.05)\n",
    "        comments = get_comments(url)\n",
    "        if comments:\n",
    "            c_list.append(comments)\n",
    "            with open(\"TEDcomments2000_v2.pkl\", \"wb\") as picklefile:\n",
    "                pickle.dump(c_list, picklefile)\n",
    "            print(count)\n",
    "        else:\n",
    "            print('No comments')\n",
    "            continue\n",
    "        if count % 50 == 0:\n",
    "            time.sleep(1)\n",
    "            print('Processing Next 50')\n",
    "    \n",
    "    return c_list"
   ]
  },
  {
   "cell_type": "code",
   "execution_count": null,
   "metadata": {
    "collapsed": true
   },
   "outputs": [],
   "source": [
    "def iterate_urls_2500(url_list_2500):\n",
    "    c_list = []\n",
    "    for count, url in enumerate(url_list_2500):\n",
    "        time.sleep(0.05)\n",
    "        comments = get_comments(url)\n",
    "        if comments: \n",
    "            c_list.append(comments)\n",
    "            with open(\"TEDcomments2500_v2.pkl\", \"wb\") as picklefile:\n",
    "                pickle.dump(c_list, picklefile)\n",
    "            print(count)\n",
    "        else:\n",
    "            print('No comments')\n",
    "            continue\n",
    "        if count % 50 == 0:\n",
    "            time.sleep(1)\n",
    "            print('Processing Next 50')\n",
    "    \n",
    "    return c_list"
   ]
  },
  {
   "cell_type": "code",
   "execution_count": null,
   "metadata": {
    "collapsed": false
   },
   "outputs": [],
   "source": [
    "# it_500 = iterate_urls_500(url_list_500)"
   ]
  },
  {
   "cell_type": "code",
   "execution_count": null,
   "metadata": {
    "collapsed": true
   },
   "outputs": [],
   "source": [
    "# with open(\"TEDcomments500_v2.pkl\", \"rb\") as picklefile:\n",
    "#     df = pickle.load(picklefile)"
   ]
  },
  {
   "cell_type": "code",
   "execution_count": null,
   "metadata": {
    "collapsed": false,
    "scrolled": true
   },
   "outputs": [],
   "source": [
    "it_1000 = iterate_urls_1000(url_list_1000)"
   ]
  },
  {
   "cell_type": "code",
   "execution_count": null,
   "metadata": {
    "collapsed": true
   },
   "outputs": [],
   "source": [
    "# it_1500 = iterate_urls_1500(url_list_1500)"
   ]
  },
  {
   "cell_type": "code",
   "execution_count": null,
   "metadata": {
    "collapsed": true
   },
   "outputs": [],
   "source": [
    "# it_2000 = iterate_urls_2000(url_list_2000)"
   ]
  },
  {
   "cell_type": "code",
   "execution_count": null,
   "metadata": {
    "collapsed": true
   },
   "outputs": [],
   "source": [
    "# it_2500 = iterate_urls_2500(url_list_2500)"
   ]
  },
  {
   "cell_type": "code",
   "execution_count": null,
   "metadata": {
    "collapsed": true
   },
   "outputs": [],
   "source": []
  }
 ],
 "metadata": {
  "anaconda-cloud": {},
  "kernelspec": {
   "display_name": "Python [conda env:py35]",
   "language": "python",
   "name": "conda-env-py35-py"
  },
  "language_info": {
   "codemirror_mode": {
    "name": "ipython",
    "version": 3
   },
   "file_extension": ".py",
   "mimetype": "text/x-python",
   "name": "python",
   "nbconvert_exporter": "python",
   "pygments_lexer": "ipython3",
   "version": "3.5.2"
  }
 },
 "nbformat": 4,
 "nbformat_minor": 0
}
